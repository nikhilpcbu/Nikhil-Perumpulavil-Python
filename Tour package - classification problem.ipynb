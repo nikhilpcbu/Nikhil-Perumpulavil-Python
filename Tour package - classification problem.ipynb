{
 "cells": [
  {
   "cell_type": "markdown",
   "id": "63495e51",
   "metadata": {
    "id": "63495e51"
   },
   "source": [
    "# Team_1 NDSA B4\n",
    "# Competition - Supervised Learning"
   ]
  },
  {
   "cell_type": "code",
   "execution_count": 1,
   "id": "pgQhihkPrRGJ",
   "metadata": {
    "executionInfo": {
     "elapsed": 352,
     "status": "ok",
     "timestamp": 1647265691969,
     "user": {
      "displayName": "Sreelekshmy S L",
      "photoUrl": "https://lh3.googleusercontent.com/a-/AOh14GiaBqLfrC_5_HTy4sFmIVj5rXckCamRB8fdHTMG=s64",
      "userId": "09740330205972904202"
     },
     "user_tz": -330
    },
    "id": "pgQhihkPrRGJ"
   },
   "outputs": [],
   "source": [
    "from platform import python_version"
   ]
  },
  {
   "cell_type": "code",
   "execution_count": 2,
   "id": "qCNCCLTKr8sL",
   "metadata": {
    "colab": {
     "base_uri": "https://localhost:8080/",
     "height": 35
    },
    "executionInfo": {
     "elapsed": 27,
     "status": "ok",
     "timestamp": 1647265706064,
     "user": {
      "displayName": "Sreelekshmy S L",
      "photoUrl": "https://lh3.googleusercontent.com/a-/AOh14GiaBqLfrC_5_HTy4sFmIVj5rXckCamRB8fdHTMG=s64",
      "userId": "09740330205972904202"
     },
     "user_tz": -330
    },
    "id": "qCNCCLTKr8sL",
    "outputId": "db3e06f8-06ac-4bc0-8edb-2dfc30a1c7d6"
   },
   "outputs": [
    {
     "data": {
      "text/plain": [
       "'3.8.8'"
      ]
     },
     "execution_count": 2,
     "metadata": {},
     "output_type": "execute_result"
    }
   ],
   "source": [
    "python_version()"
   ]
  },
  {
   "cell_type": "markdown",
   "id": "684d00e8",
   "metadata": {
    "id": "684d00e8"
   },
   "source": [
    "### Domain : Tourism\n",
    "### Data : tour_package.csv\n",
    "#### Source : Kaggle Datasets"
   ]
  },
  {
   "cell_type": "markdown",
   "id": "02bff668",
   "metadata": {
    "id": "02bff668"
   },
   "source": [
    "### Context:\n",
    "<ul>\n",
    "<li><b>Visit With Us</b> tourism company wants to establish a viable business model to expand its customer base\n",
    "\n",
    "<li>Currently there are 5 types of packages the company is offering - Basic, Standard, Deluxe, Super Deluxe, King. Over 18% of customers purchased a product from the available packages according to the data from the last year\n",
    "\n",
    "<li>However, the marketing cost was quite high because customers were contacted at random without looking at the available information.\n",
    "\n",
    "<li>The company is now planning to launch a new product <b>Wellness Tourism Package</b>. Wellness Tourism is defined as Travel that allows the traveler to maintain, enhance or kick-start a healthy lifestyle, and support or increase one's sense of well-being."
   ]
  },
  {
   "cell_type": "markdown",
   "id": "368278ec",
   "metadata": {
    "id": "368278ec"
   },
   "source": [
    "### Objective:\n",
    "<ul>\n",
    "\n",
    "\n",
    "<li>To Predict customers more likely to purchase the newly introduced package\n",
    "</ul>\n"
   ]
  },
  {
   "cell_type": "markdown",
   "id": "2b232924",
   "metadata": {
    "id": "2b232924"
   },
   "source": [
    "### Customer details:\n",
    "<ol>\n",
    "<li>CustomerID: Unique customer ID\n",
    "<li>ProdTaken: Whether the customer has purchased a package or not (0: No, 1: Yes)\n",
    "<li>Age: Age of customer\n",
    "<li>TypeofContact: How customer was contacted (Company Invited or Self Inquiry)\n",
    "<li>CityTier: City tier depends on the development of a city, population, facilities, and living standards. The categories are ordered i.e. Tier 1 > Tier 2 > Tier 3\n",
    "<li>Occupation: Occupation of customer\n",
    "<li>Gender: Gender of customer\n",
    "<li>NumberOfPersonVisiting: Total number of persons planning to take the trip with the customer\n",
    "<li>PreferredPropertyStar: Preferred hotel property rating by customer\n",
    "<li>MaritalStatus: Marital status of customer\n",
    "<li>NumberOfTrips: Average number of trips in a year by customer\n",
    "<li>Passport: The customer has a passport or not (0: No, 1: Yes)\n",
    "<li>OwnCar: Whether the customers own a car or not (0: No, 1: Yes)\n",
    "<li>NumberOfChildrenVisiting: Total number of children with age less than 5 planning to take the trip with the customer\n",
    "<li>Designation: Designation of the customer in the current organization\n",
    "<li>MonthlyIncome: Gross monthly income of the customer   \n",
    "    </ol>\n",
    "<b>Customer interaction data:</b>\n",
    "    <ol>\n",
    "<li>PitchSatisfactionScore: Sales pitch satisfaction score\n",
    "<li>ProductPitched: Product pitched by the salesperson\n",
    "<li>NumberOfFollowups: Total number of follow-ups has been done by the salesperson after the sales pitch\n",
    "<li>DurationOfPitch: Duration of the pitch by a salesperson to the customer  </ol>  "
   ]
  },
  {
   "cell_type": "code",
   "execution_count": 3,
   "id": "334d8c37",
   "metadata": {
    "id": "334d8c37"
   },
   "outputs": [],
   "source": [
    "import numpy as np\n",
    "import pandas as pd\n",
    "import matplotlib.pyplot as plt\n",
    "import seaborn as sns"
   ]
  },
  {
   "cell_type": "code",
   "execution_count": 4,
   "id": "3f6df1a6",
   "metadata": {
    "id": "3f6df1a6"
   },
   "outputs": [],
   "source": [
    "import warnings\n",
    "warnings.filterwarnings('ignore')"
   ]
  },
  {
   "cell_type": "markdown",
   "id": "28cd7f8b",
   "metadata": {
    "id": "28cd7f8b"
   },
   "source": [
    "# M1 :  Data collection"
   ]
  },
  {
   "cell_type": "code",
   "execution_count": 5,
   "id": "04335f42",
   "metadata": {
    "id": "04335f42"
   },
   "outputs": [],
   "source": [
    "tour_df = pd.read_csv('tour_package.csv')"
   ]
  },
  {
   "cell_type": "code",
   "execution_count": 6,
   "id": "dfa50455",
   "metadata": {
    "id": "dfa50455",
    "outputId": "ce5c5d9e-a412-411e-a324-aeba563786a3"
   },
   "outputs": [
    {
     "data": {
      "text/html": [
       "<div>\n",
       "<style scoped>\n",
       "    .dataframe tbody tr th:only-of-type {\n",
       "        vertical-align: middle;\n",
       "    }\n",
       "\n",
       "    .dataframe tbody tr th {\n",
       "        vertical-align: top;\n",
       "    }\n",
       "\n",
       "    .dataframe thead th {\n",
       "        text-align: right;\n",
       "    }\n",
       "</style>\n",
       "<table border=\"1\" class=\"dataframe\">\n",
       "  <thead>\n",
       "    <tr style=\"text-align: right;\">\n",
       "      <th></th>\n",
       "      <th>CustomerID</th>\n",
       "      <th>ProdTaken</th>\n",
       "      <th>Age</th>\n",
       "      <th>TypeofContact</th>\n",
       "      <th>CityTier</th>\n",
       "      <th>DurationOfPitch</th>\n",
       "      <th>Occupation</th>\n",
       "      <th>Gender</th>\n",
       "      <th>NumberOfPersonVisiting</th>\n",
       "      <th>NumberOfFollowups</th>\n",
       "      <th>ProductPitched</th>\n",
       "      <th>PreferredPropertyStar</th>\n",
       "      <th>MaritalStatus</th>\n",
       "      <th>NumberOfTrips</th>\n",
       "      <th>Passport</th>\n",
       "      <th>PitchSatisfactionScore</th>\n",
       "      <th>OwnCar</th>\n",
       "      <th>NumberOfChildrenVisiting</th>\n",
       "      <th>Designation</th>\n",
       "      <th>MonthlyIncome</th>\n",
       "    </tr>\n",
       "  </thead>\n",
       "  <tbody>\n",
       "    <tr>\n",
       "      <th>0</th>\n",
       "      <td>200000</td>\n",
       "      <td>1</td>\n",
       "      <td>41.0</td>\n",
       "      <td>Self Enquiry</td>\n",
       "      <td>3</td>\n",
       "      <td>6.0</td>\n",
       "      <td>Salaried</td>\n",
       "      <td>Female</td>\n",
       "      <td>3</td>\n",
       "      <td>3.0</td>\n",
       "      <td>Deluxe</td>\n",
       "      <td>3.0</td>\n",
       "      <td>Single</td>\n",
       "      <td>1.0</td>\n",
       "      <td>1</td>\n",
       "      <td>2</td>\n",
       "      <td>1</td>\n",
       "      <td>0.0</td>\n",
       "      <td>Manager</td>\n",
       "      <td>20993.0</td>\n",
       "    </tr>\n",
       "    <tr>\n",
       "      <th>1</th>\n",
       "      <td>200001</td>\n",
       "      <td>0</td>\n",
       "      <td>49.0</td>\n",
       "      <td>Company Invited</td>\n",
       "      <td>1</td>\n",
       "      <td>14.0</td>\n",
       "      <td>Salaried</td>\n",
       "      <td>Male</td>\n",
       "      <td>3</td>\n",
       "      <td>4.0</td>\n",
       "      <td>Deluxe</td>\n",
       "      <td>4.0</td>\n",
       "      <td>Divorced</td>\n",
       "      <td>2.0</td>\n",
       "      <td>0</td>\n",
       "      <td>3</td>\n",
       "      <td>1</td>\n",
       "      <td>2.0</td>\n",
       "      <td>Manager</td>\n",
       "      <td>20130.0</td>\n",
       "    </tr>\n",
       "    <tr>\n",
       "      <th>2</th>\n",
       "      <td>200002</td>\n",
       "      <td>1</td>\n",
       "      <td>37.0</td>\n",
       "      <td>Self Enquiry</td>\n",
       "      <td>1</td>\n",
       "      <td>8.0</td>\n",
       "      <td>Free Lancer</td>\n",
       "      <td>Male</td>\n",
       "      <td>3</td>\n",
       "      <td>4.0</td>\n",
       "      <td>Basic</td>\n",
       "      <td>3.0</td>\n",
       "      <td>Single</td>\n",
       "      <td>7.0</td>\n",
       "      <td>1</td>\n",
       "      <td>3</td>\n",
       "      <td>0</td>\n",
       "      <td>0.0</td>\n",
       "      <td>Executive</td>\n",
       "      <td>17090.0</td>\n",
       "    </tr>\n",
       "    <tr>\n",
       "      <th>3</th>\n",
       "      <td>200003</td>\n",
       "      <td>0</td>\n",
       "      <td>33.0</td>\n",
       "      <td>Company Invited</td>\n",
       "      <td>1</td>\n",
       "      <td>9.0</td>\n",
       "      <td>Salaried</td>\n",
       "      <td>Female</td>\n",
       "      <td>2</td>\n",
       "      <td>3.0</td>\n",
       "      <td>Basic</td>\n",
       "      <td>3.0</td>\n",
       "      <td>Divorced</td>\n",
       "      <td>2.0</td>\n",
       "      <td>1</td>\n",
       "      <td>5</td>\n",
       "      <td>1</td>\n",
       "      <td>1.0</td>\n",
       "      <td>Executive</td>\n",
       "      <td>17909.0</td>\n",
       "    </tr>\n",
       "    <tr>\n",
       "      <th>4</th>\n",
       "      <td>200004</td>\n",
       "      <td>0</td>\n",
       "      <td>NaN</td>\n",
       "      <td>Self Enquiry</td>\n",
       "      <td>1</td>\n",
       "      <td>8.0</td>\n",
       "      <td>Small Business</td>\n",
       "      <td>Male</td>\n",
       "      <td>2</td>\n",
       "      <td>3.0</td>\n",
       "      <td>Basic</td>\n",
       "      <td>4.0</td>\n",
       "      <td>Divorced</td>\n",
       "      <td>1.0</td>\n",
       "      <td>0</td>\n",
       "      <td>5</td>\n",
       "      <td>1</td>\n",
       "      <td>0.0</td>\n",
       "      <td>Executive</td>\n",
       "      <td>18468.0</td>\n",
       "    </tr>\n",
       "  </tbody>\n",
       "</table>\n",
       "</div>"
      ],
      "text/plain": [
       "   CustomerID  ProdTaken   Age    TypeofContact  CityTier  DurationOfPitch  \\\n",
       "0      200000          1  41.0     Self Enquiry         3              6.0   \n",
       "1      200001          0  49.0  Company Invited         1             14.0   \n",
       "2      200002          1  37.0     Self Enquiry         1              8.0   \n",
       "3      200003          0  33.0  Company Invited         1              9.0   \n",
       "4      200004          0   NaN     Self Enquiry         1              8.0   \n",
       "\n",
       "       Occupation  Gender  NumberOfPersonVisiting  NumberOfFollowups  \\\n",
       "0        Salaried  Female                       3                3.0   \n",
       "1        Salaried    Male                       3                4.0   \n",
       "2     Free Lancer    Male                       3                4.0   \n",
       "3        Salaried  Female                       2                3.0   \n",
       "4  Small Business    Male                       2                3.0   \n",
       "\n",
       "  ProductPitched  PreferredPropertyStar MaritalStatus  NumberOfTrips  \\\n",
       "0         Deluxe                    3.0        Single            1.0   \n",
       "1         Deluxe                    4.0      Divorced            2.0   \n",
       "2          Basic                    3.0        Single            7.0   \n",
       "3          Basic                    3.0      Divorced            2.0   \n",
       "4          Basic                    4.0      Divorced            1.0   \n",
       "\n",
       "   Passport  PitchSatisfactionScore  OwnCar  NumberOfChildrenVisiting  \\\n",
       "0         1                       2       1                       0.0   \n",
       "1         0                       3       1                       2.0   \n",
       "2         1                       3       0                       0.0   \n",
       "3         1                       5       1                       1.0   \n",
       "4         0                       5       1                       0.0   \n",
       "\n",
       "  Designation  MonthlyIncome  \n",
       "0     Manager        20993.0  \n",
       "1     Manager        20130.0  \n",
       "2   Executive        17090.0  \n",
       "3   Executive        17909.0  \n",
       "4   Executive        18468.0  "
      ]
     },
     "execution_count": 6,
     "metadata": {},
     "output_type": "execute_result"
    }
   ],
   "source": [
    "tour_df.head()"
   ]
  },
  {
   "cell_type": "code",
   "execution_count": 7,
   "id": "776af91a",
   "metadata": {
    "id": "776af91a",
    "outputId": "df47f704-cbd0-4ed3-fdb5-fe7adddf34b1"
   },
   "outputs": [
    {
     "data": {
      "text/plain": [
       "(4888, 20)"
      ]
     },
     "execution_count": 7,
     "metadata": {},
     "output_type": "execute_result"
    }
   ],
   "source": [
    "tour_df.shape"
   ]
  },
  {
   "cell_type": "markdown",
   "id": "04f84e22",
   "metadata": {
    "id": "04f84e22"
   },
   "source": [
    "There are 4888 rows and 20 columns in the data set."
   ]
  },
  {
   "cell_type": "code",
   "execution_count": 8,
   "id": "9b04ff38",
   "metadata": {
    "id": "9b04ff38",
    "outputId": "fbfd53b6-992b-43ca-866f-e7aad116baff"
   },
   "outputs": [
    {
     "name": "stdout",
     "output_type": "stream",
     "text": [
      "<class 'pandas.core.frame.DataFrame'>\n",
      "RangeIndex: 4888 entries, 0 to 4887\n",
      "Data columns (total 20 columns):\n",
      " #   Column                    Non-Null Count  Dtype  \n",
      "---  ------                    --------------  -----  \n",
      " 0   CustomerID                4888 non-null   int64  \n",
      " 1   ProdTaken                 4888 non-null   int64  \n",
      " 2   Age                       4662 non-null   float64\n",
      " 3   TypeofContact             4863 non-null   object \n",
      " 4   CityTier                  4888 non-null   int64  \n",
      " 5   DurationOfPitch           4637 non-null   float64\n",
      " 6   Occupation                4888 non-null   object \n",
      " 7   Gender                    4888 non-null   object \n",
      " 8   NumberOfPersonVisiting    4888 non-null   int64  \n",
      " 9   NumberOfFollowups         4843 non-null   float64\n",
      " 10  ProductPitched            4888 non-null   object \n",
      " 11  PreferredPropertyStar     4862 non-null   float64\n",
      " 12  MaritalStatus             4888 non-null   object \n",
      " 13  NumberOfTrips             4748 non-null   float64\n",
      " 14  Passport                  4888 non-null   int64  \n",
      " 15  PitchSatisfactionScore    4888 non-null   int64  \n",
      " 16  OwnCar                    4888 non-null   int64  \n",
      " 17  NumberOfChildrenVisiting  4822 non-null   float64\n",
      " 18  Designation               4888 non-null   object \n",
      " 19  MonthlyIncome             4655 non-null   float64\n",
      "dtypes: float64(7), int64(7), object(6)\n",
      "memory usage: 763.9+ KB\n"
     ]
    }
   ],
   "source": [
    "tour_df.info()"
   ]
  },
  {
   "cell_type": "code",
   "execution_count": 9,
   "id": "e3fa001d",
   "metadata": {
    "id": "e3fa001d",
    "outputId": "9b4b01f8-f516-41d3-de31-ff5eea31e4cf"
   },
   "outputs": [
    {
     "data": {
      "text/html": [
       "<div>\n",
       "<style scoped>\n",
       "    .dataframe tbody tr th:only-of-type {\n",
       "        vertical-align: middle;\n",
       "    }\n",
       "\n",
       "    .dataframe tbody tr th {\n",
       "        vertical-align: top;\n",
       "    }\n",
       "\n",
       "    .dataframe thead th {\n",
       "        text-align: right;\n",
       "    }\n",
       "</style>\n",
       "<table border=\"1\" class=\"dataframe\">\n",
       "  <thead>\n",
       "    <tr style=\"text-align: right;\">\n",
       "      <th></th>\n",
       "      <th>CustomerID</th>\n",
       "      <th>ProdTaken</th>\n",
       "      <th>Age</th>\n",
       "      <th>CityTier</th>\n",
       "      <th>DurationOfPitch</th>\n",
       "      <th>NumberOfPersonVisiting</th>\n",
       "      <th>NumberOfFollowups</th>\n",
       "      <th>PreferredPropertyStar</th>\n",
       "      <th>NumberOfTrips</th>\n",
       "      <th>Passport</th>\n",
       "      <th>PitchSatisfactionScore</th>\n",
       "      <th>OwnCar</th>\n",
       "      <th>NumberOfChildrenVisiting</th>\n",
       "      <th>MonthlyIncome</th>\n",
       "    </tr>\n",
       "  </thead>\n",
       "  <tbody>\n",
       "    <tr>\n",
       "      <th>count</th>\n",
       "      <td>4888.000000</td>\n",
       "      <td>4888.000000</td>\n",
       "      <td>4662.000000</td>\n",
       "      <td>4888.000000</td>\n",
       "      <td>4637.000000</td>\n",
       "      <td>4888.000000</td>\n",
       "      <td>4843.000000</td>\n",
       "      <td>4862.000000</td>\n",
       "      <td>4748.000000</td>\n",
       "      <td>4888.000000</td>\n",
       "      <td>4888.000000</td>\n",
       "      <td>4888.000000</td>\n",
       "      <td>4822.000000</td>\n",
       "      <td>4655.000000</td>\n",
       "    </tr>\n",
       "    <tr>\n",
       "      <th>mean</th>\n",
       "      <td>202443.500000</td>\n",
       "      <td>0.188216</td>\n",
       "      <td>37.622265</td>\n",
       "      <td>1.654255</td>\n",
       "      <td>15.490835</td>\n",
       "      <td>2.905074</td>\n",
       "      <td>3.708445</td>\n",
       "      <td>3.581037</td>\n",
       "      <td>3.236521</td>\n",
       "      <td>0.290917</td>\n",
       "      <td>3.078151</td>\n",
       "      <td>0.620295</td>\n",
       "      <td>1.187267</td>\n",
       "      <td>23619.853491</td>\n",
       "    </tr>\n",
       "    <tr>\n",
       "      <th>std</th>\n",
       "      <td>1411.188388</td>\n",
       "      <td>0.390925</td>\n",
       "      <td>9.316387</td>\n",
       "      <td>0.916583</td>\n",
       "      <td>8.519643</td>\n",
       "      <td>0.724891</td>\n",
       "      <td>1.002509</td>\n",
       "      <td>0.798009</td>\n",
       "      <td>1.849019</td>\n",
       "      <td>0.454232</td>\n",
       "      <td>1.365792</td>\n",
       "      <td>0.485363</td>\n",
       "      <td>0.857861</td>\n",
       "      <td>5380.698361</td>\n",
       "    </tr>\n",
       "    <tr>\n",
       "      <th>min</th>\n",
       "      <td>200000.000000</td>\n",
       "      <td>0.000000</td>\n",
       "      <td>18.000000</td>\n",
       "      <td>1.000000</td>\n",
       "      <td>5.000000</td>\n",
       "      <td>1.000000</td>\n",
       "      <td>1.000000</td>\n",
       "      <td>3.000000</td>\n",
       "      <td>1.000000</td>\n",
       "      <td>0.000000</td>\n",
       "      <td>1.000000</td>\n",
       "      <td>0.000000</td>\n",
       "      <td>0.000000</td>\n",
       "      <td>1000.000000</td>\n",
       "    </tr>\n",
       "    <tr>\n",
       "      <th>25%</th>\n",
       "      <td>201221.750000</td>\n",
       "      <td>0.000000</td>\n",
       "      <td>31.000000</td>\n",
       "      <td>1.000000</td>\n",
       "      <td>9.000000</td>\n",
       "      <td>2.000000</td>\n",
       "      <td>3.000000</td>\n",
       "      <td>3.000000</td>\n",
       "      <td>2.000000</td>\n",
       "      <td>0.000000</td>\n",
       "      <td>2.000000</td>\n",
       "      <td>0.000000</td>\n",
       "      <td>1.000000</td>\n",
       "      <td>20346.000000</td>\n",
       "    </tr>\n",
       "    <tr>\n",
       "      <th>50%</th>\n",
       "      <td>202443.500000</td>\n",
       "      <td>0.000000</td>\n",
       "      <td>36.000000</td>\n",
       "      <td>1.000000</td>\n",
       "      <td>13.000000</td>\n",
       "      <td>3.000000</td>\n",
       "      <td>4.000000</td>\n",
       "      <td>3.000000</td>\n",
       "      <td>3.000000</td>\n",
       "      <td>0.000000</td>\n",
       "      <td>3.000000</td>\n",
       "      <td>1.000000</td>\n",
       "      <td>1.000000</td>\n",
       "      <td>22347.000000</td>\n",
       "    </tr>\n",
       "    <tr>\n",
       "      <th>75%</th>\n",
       "      <td>203665.250000</td>\n",
       "      <td>0.000000</td>\n",
       "      <td>44.000000</td>\n",
       "      <td>3.000000</td>\n",
       "      <td>20.000000</td>\n",
       "      <td>3.000000</td>\n",
       "      <td>4.000000</td>\n",
       "      <td>4.000000</td>\n",
       "      <td>4.000000</td>\n",
       "      <td>1.000000</td>\n",
       "      <td>4.000000</td>\n",
       "      <td>1.000000</td>\n",
       "      <td>2.000000</td>\n",
       "      <td>25571.000000</td>\n",
       "    </tr>\n",
       "    <tr>\n",
       "      <th>max</th>\n",
       "      <td>204887.000000</td>\n",
       "      <td>1.000000</td>\n",
       "      <td>61.000000</td>\n",
       "      <td>3.000000</td>\n",
       "      <td>127.000000</td>\n",
       "      <td>5.000000</td>\n",
       "      <td>6.000000</td>\n",
       "      <td>5.000000</td>\n",
       "      <td>22.000000</td>\n",
       "      <td>1.000000</td>\n",
       "      <td>5.000000</td>\n",
       "      <td>1.000000</td>\n",
       "      <td>3.000000</td>\n",
       "      <td>98678.000000</td>\n",
       "    </tr>\n",
       "  </tbody>\n",
       "</table>\n",
       "</div>"
      ],
      "text/plain": [
       "          CustomerID    ProdTaken          Age     CityTier  DurationOfPitch  \\\n",
       "count    4888.000000  4888.000000  4662.000000  4888.000000      4637.000000   \n",
       "mean   202443.500000     0.188216    37.622265     1.654255        15.490835   \n",
       "std      1411.188388     0.390925     9.316387     0.916583         8.519643   \n",
       "min    200000.000000     0.000000    18.000000     1.000000         5.000000   \n",
       "25%    201221.750000     0.000000    31.000000     1.000000         9.000000   \n",
       "50%    202443.500000     0.000000    36.000000     1.000000        13.000000   \n",
       "75%    203665.250000     0.000000    44.000000     3.000000        20.000000   \n",
       "max    204887.000000     1.000000    61.000000     3.000000       127.000000   \n",
       "\n",
       "       NumberOfPersonVisiting  NumberOfFollowups  PreferredPropertyStar  \\\n",
       "count             4888.000000        4843.000000            4862.000000   \n",
       "mean                 2.905074           3.708445               3.581037   \n",
       "std                  0.724891           1.002509               0.798009   \n",
       "min                  1.000000           1.000000               3.000000   \n",
       "25%                  2.000000           3.000000               3.000000   \n",
       "50%                  3.000000           4.000000               3.000000   \n",
       "75%                  3.000000           4.000000               4.000000   \n",
       "max                  5.000000           6.000000               5.000000   \n",
       "\n",
       "       NumberOfTrips     Passport  PitchSatisfactionScore       OwnCar  \\\n",
       "count    4748.000000  4888.000000             4888.000000  4888.000000   \n",
       "mean        3.236521     0.290917                3.078151     0.620295   \n",
       "std         1.849019     0.454232                1.365792     0.485363   \n",
       "min         1.000000     0.000000                1.000000     0.000000   \n",
       "25%         2.000000     0.000000                2.000000     0.000000   \n",
       "50%         3.000000     0.000000                3.000000     1.000000   \n",
       "75%         4.000000     1.000000                4.000000     1.000000   \n",
       "max        22.000000     1.000000                5.000000     1.000000   \n",
       "\n",
       "       NumberOfChildrenVisiting  MonthlyIncome  \n",
       "count               4822.000000    4655.000000  \n",
       "mean                   1.187267   23619.853491  \n",
       "std                    0.857861    5380.698361  \n",
       "min                    0.000000    1000.000000  \n",
       "25%                    1.000000   20346.000000  \n",
       "50%                    1.000000   22347.000000  \n",
       "75%                    2.000000   25571.000000  \n",
       "max                    3.000000   98678.000000  "
      ]
     },
     "execution_count": 9,
     "metadata": {},
     "output_type": "execute_result"
    }
   ],
   "source": [
    "tour_df.describe()"
   ]
  },
  {
   "cell_type": "markdown",
   "id": "dc90df26",
   "metadata": {
    "id": "dc90df26"
   },
   "source": [
    "# M2: Preprocessing"
   ]
  },
  {
   "cell_type": "markdown",
   "id": "14ee420b",
   "metadata": {
    "id": "14ee420b"
   },
   "source": [
    "### M2.1 Check categorical cols"
   ]
  },
  {
   "cell_type": "code",
   "execution_count": 10,
   "id": "b0ddcee6",
   "metadata": {
    "id": "b0ddcee6",
    "outputId": "2d09c56c-d4eb-4904-c710-f9059a131474"
   },
   "outputs": [
    {
     "name": "stdout",
     "output_type": "stream",
     "text": [
      "Gender\n",
      "Male       2916\n",
      "Female     1817\n",
      "Fe Male     155\n",
      "Name: Gender, dtype: int64\n",
      "TypeofContact\n",
      "Self Enquiry       3444\n",
      "Company Invited    1419\n",
      "Name: TypeofContact, dtype: int64\n",
      "Occupation\n",
      "Salaried          2368\n",
      "Small Business    2084\n",
      "Large Business     434\n",
      "Free Lancer          2\n",
      "Name: Occupation, dtype: int64\n",
      "ProductPitched\n",
      "Basic           1842\n",
      "Deluxe          1732\n",
      "Standard         742\n",
      "Super Deluxe     342\n",
      "King             230\n",
      "Name: ProductPitched, dtype: int64\n",
      "MaritalStatus\n",
      "Married      2340\n",
      "Divorced      950\n",
      "Single        916\n",
      "Unmarried     682\n",
      "Name: MaritalStatus, dtype: int64\n",
      "Designation\n",
      "Executive         1842\n",
      "Manager           1732\n",
      "Senior Manager     742\n",
      "AVP                342\n",
      "VP                 230\n",
      "Name: Designation, dtype: int64\n"
     ]
    }
   ],
   "source": [
    "categories =['Gender','TypeofContact','Occupation','ProductPitched','MaritalStatus','Designation']\n",
    "for i in categories:\n",
    "    print(i)\n",
    "    print(tour_df[i].value_counts())"
   ]
  },
  {
   "cell_type": "markdown",
   "id": "9e301cd9",
   "metadata": {
    "id": "9e301cd9"
   },
   "source": [
    "### In gender col Female and Fe Male are same values so replace them"
   ]
  },
  {
   "cell_type": "code",
   "execution_count": 11,
   "id": "1c1b3264",
   "metadata": {
    "id": "1c1b3264"
   },
   "outputs": [],
   "source": [
    "tour_df['Gender'] = tour_df['Gender'].apply(lambda x: 'Female' if x == 'Fe Male' else x)"
   ]
  },
  {
   "cell_type": "code",
   "execution_count": 12,
   "id": "6f7dd0ef",
   "metadata": {
    "id": "6f7dd0ef",
    "outputId": "3947c0b8-4cf1-42d9-9823-c44da14efab0"
   },
   "outputs": [
    {
     "data": {
      "text/plain": [
       "Male      2916\n",
       "Female    1972\n",
       "Name: Gender, dtype: int64"
      ]
     },
     "execution_count": 12,
     "metadata": {},
     "output_type": "execute_result"
    }
   ],
   "source": [
    "tour_df.Gender.value_counts()"
   ]
  },
  {
   "cell_type": "markdown",
   "id": "39d7129d",
   "metadata": {
    "id": "39d7129d"
   },
   "source": [
    "### M2.2 Missing values"
   ]
  },
  {
   "cell_type": "code",
   "execution_count": 13,
   "id": "06ea4c96",
   "metadata": {
    "id": "06ea4c96",
    "outputId": "2e9f94a5-c4da-429e-943e-28b38f652366"
   },
   "outputs": [
    {
     "data": {
      "text/plain": [
       "DurationOfPitch             251\n",
       "MonthlyIncome               233\n",
       "Age                         226\n",
       "NumberOfTrips               140\n",
       "NumberOfChildrenVisiting     66\n",
       "NumberOfFollowups            45\n",
       "PreferredPropertyStar        26\n",
       "TypeofContact                25\n",
       "Designation                   0\n",
       "OwnCar                        0\n",
       "PitchSatisfactionScore        0\n",
       "Passport                      0\n",
       "CustomerID                    0\n",
       "MaritalStatus                 0\n",
       "ProdTaken                     0\n",
       "NumberOfPersonVisiting        0\n",
       "Gender                        0\n",
       "Occupation                    0\n",
       "CityTier                      0\n",
       "ProductPitched                0\n",
       "dtype: int64"
      ]
     },
     "execution_count": 13,
     "metadata": {},
     "output_type": "execute_result"
    }
   ],
   "source": [
    "tour_df.isna().sum().sort_values(ascending=False)"
   ]
  },
  {
   "cell_type": "markdown",
   "id": "df1c2f8f",
   "metadata": {
    "id": "df1c2f8f"
   },
   "source": [
    "<ul>\n",
    "<li>There are lot of missing values in the data set\n",
    "<li>Highest number of missing values are in DurationOfPitch(251),MonthlyIncome(233),Age(226),NumberOfTrips(140)"
   ]
  },
  {
   "cell_type": "markdown",
   "id": "98184afc",
   "metadata": {
    "id": "98184afc"
   },
   "source": [
    "We will fill the missing values by different categories"
   ]
  },
  {
   "cell_type": "markdown",
   "id": "898c7566",
   "metadata": {
    "id": "898c7566"
   },
   "source": [
    "### a.Categorical"
   ]
  },
  {
   "cell_type": "markdown",
   "id": "9dd95ba7",
   "metadata": {
    "id": "9dd95ba7"
   },
   "source": [
    "\n",
    "### Type of contact"
   ]
  },
  {
   "cell_type": "code",
   "execution_count": 14,
   "id": "da9357aa",
   "metadata": {
    "id": "da9357aa",
    "outputId": "2528ab02-87c5-4f65-9d72-8c3b6b40b1d7"
   },
   "outputs": [
    {
     "data": {
      "text/plain": [
       "Self Enquiry       3444\n",
       "Company Invited    1419\n",
       "Name: TypeofContact, dtype: int64"
      ]
     },
     "execution_count": 14,
     "metadata": {},
     "output_type": "execute_result"
    }
   ],
   "source": [
    "#type of contact\n",
    "tour_df['TypeofContact'].value_counts()"
   ]
  },
  {
   "cell_type": "code",
   "execution_count": 15,
   "id": "a3439502",
   "metadata": {
    "id": "a3439502"
   },
   "outputs": [],
   "source": [
    "toc = tour_df['TypeofContact'].mode()\n",
    "tour_df['TypeofContact'] = tour_df['TypeofContact'].fillna(toc[0])"
   ]
  },
  {
   "cell_type": "markdown",
   "id": "bf3553c8",
   "metadata": {
    "id": "bf3553c8"
   },
   "source": [
    "Since type of contact is categorical we filled the null values with mode"
   ]
  },
  {
   "cell_type": "markdown",
   "id": "6c031556",
   "metadata": {
    "id": "6c031556"
   },
   "source": [
    "### b.Numerical\n",
    "### b.1) Discrete"
   ]
  },
  {
   "cell_type": "markdown",
   "id": "8d1e457f",
   "metadata": {
    "id": "8d1e457f"
   },
   "source": [
    "### Number of trips"
   ]
  },
  {
   "cell_type": "markdown",
   "id": "aeb3a348",
   "metadata": {
    "id": "aeb3a348"
   },
   "source": [
    "Since number of trips depends on maritalstatus we will group the data by marital status and then take the median to fill null values"
   ]
  },
  {
   "cell_type": "code",
   "execution_count": 16,
   "id": "a7710b3a",
   "metadata": {
    "id": "a7710b3a",
    "outputId": "09063839-fe7b-4c8b-9309-2a8257abfad6"
   },
   "outputs": [
    {
     "name": "stdout",
     "output_type": "stream",
     "text": [
      "MaritalStatus\n",
      "Divorced     3.0\n",
      "Married      3.0\n",
      "Single       2.0\n",
      "Unmarried    3.0\n",
      "Name: NumberOfTrips, dtype: float64\n"
     ]
    }
   ],
   "source": [
    "print(tour_df.groupby('MaritalStatus')['NumberOfTrips'].median())"
   ]
  },
  {
   "cell_type": "code",
   "execution_count": 17,
   "id": "616084b5",
   "metadata": {
    "id": "616084b5"
   },
   "outputs": [],
   "source": [
    "tour_df[\"NumberOfTrips\"] = tour_df.groupby([\"MaritalStatus\"])[\"NumberOfTrips\"].apply(\n",
    "    lambda x: x.fillna(x.median()))"
   ]
  },
  {
   "cell_type": "code",
   "execution_count": 18,
   "id": "a04bfb78",
   "metadata": {
    "id": "a04bfb78",
    "outputId": "5a440f4a-cb27-4658-af8e-1f4f177a47a0"
   },
   "outputs": [
    {
     "data": {
      "text/plain": [
       "0"
      ]
     },
     "execution_count": 18,
     "metadata": {},
     "output_type": "execute_result"
    }
   ],
   "source": [
    "tour_df['NumberOfTrips'].isna().sum()"
   ]
  },
  {
   "cell_type": "markdown",
   "id": "8e7f697e",
   "metadata": {
    "id": "8e7f697e"
   },
   "source": [
    "### NumberOfChildrenVisiting "
   ]
  },
  {
   "cell_type": "code",
   "execution_count": 19,
   "id": "7aa8dccb",
   "metadata": {
    "id": "7aa8dccb",
    "outputId": "af3103c5-dfa5-429a-9459-51af8ef2f85c"
   },
   "outputs": [
    {
     "data": {
      "text/plain": [
       "1.0    2080\n",
       "2.0    1335\n",
       "0.0    1082\n",
       "3.0     325\n",
       "Name: NumberOfChildrenVisiting, dtype: int64"
      ]
     },
     "execution_count": 19,
     "metadata": {},
     "output_type": "execute_result"
    }
   ],
   "source": [
    "tour_df['NumberOfChildrenVisiting'].value_counts()"
   ]
  },
  {
   "cell_type": "markdown",
   "id": "3e48d91d",
   "metadata": {
    "id": "3e48d91d"
   },
   "source": [
    "We fill number of children column by median"
   ]
  },
  {
   "cell_type": "code",
   "execution_count": 20,
   "id": "7482100f",
   "metadata": {
    "id": "7482100f"
   },
   "outputs": [],
   "source": [
    "noc = tour_df['NumberOfChildrenVisiting'].median()\n",
    "tour_df['NumberOfChildrenVisiting'] = tour_df['NumberOfChildrenVisiting'].fillna(noc)"
   ]
  },
  {
   "cell_type": "code",
   "execution_count": 21,
   "id": "5dafa033",
   "metadata": {
    "id": "5dafa033",
    "outputId": "affd89cf-ea17-42f9-ce17-9379d52e1fb5"
   },
   "outputs": [
    {
     "data": {
      "text/plain": [
       "0"
      ]
     },
     "execution_count": 21,
     "metadata": {},
     "output_type": "execute_result"
    }
   ],
   "source": [
    "tour_df['NumberOfChildrenVisiting'].isna().sum()"
   ]
  },
  {
   "cell_type": "markdown",
   "id": "e90cf814",
   "metadata": {
    "id": "e90cf814"
   },
   "source": [
    "### NumberOfFollowups"
   ]
  },
  {
   "cell_type": "markdown",
   "id": "4c8c7f8f",
   "metadata": {
    "id": "4c8c7f8f"
   },
   "source": [
    "Number of follow ups depends on Product pitched so we group the data by later and then fill null values by corresponding median"
   ]
  },
  {
   "cell_type": "code",
   "execution_count": 22,
   "id": "878e4087",
   "metadata": {
    "id": "878e4087",
    "outputId": "4cd2edfe-e4d2-4ebd-f63a-fdbbe3356c13"
   },
   "outputs": [
    {
     "name": "stdout",
     "output_type": "stream",
     "text": [
      "ProductPitched\n",
      "Basic           4.0\n",
      "Deluxe          4.0\n",
      "King            4.0\n",
      "Standard        4.0\n",
      "Super Deluxe    4.0\n",
      "Name: NumberOfFollowups, dtype: float64\n"
     ]
    }
   ],
   "source": [
    "print(tour_df.groupby('ProductPitched')['NumberOfFollowups'].median())"
   ]
  },
  {
   "cell_type": "code",
   "execution_count": 23,
   "id": "21fc51eb",
   "metadata": {
    "id": "21fc51eb"
   },
   "outputs": [],
   "source": [
    "nof=tour_df['NumberOfFollowups'].median()\n",
    "tour_df[\"NumberOfFollowups\"] = tour_df['NumberOfFollowups'].fillna(nof)"
   ]
  },
  {
   "cell_type": "code",
   "execution_count": 24,
   "id": "52a6b1ee",
   "metadata": {
    "id": "52a6b1ee",
    "outputId": "873d3043-835b-434c-bf90-182f127bca94"
   },
   "outputs": [
    {
     "data": {
      "text/plain": [
       "0"
      ]
     },
     "execution_count": 24,
     "metadata": {},
     "output_type": "execute_result"
    }
   ],
   "source": [
    "tour_df['NumberOfFollowups'].isna().sum()"
   ]
  },
  {
   "cell_type": "markdown",
   "id": "1b5d8cf8",
   "metadata": {
    "id": "1b5d8cf8"
   },
   "source": [
    "### Preferred property star"
   ]
  },
  {
   "cell_type": "markdown",
   "id": "309d5b13",
   "metadata": {
    "id": "309d5b13"
   },
   "source": [
    "Preferredproperty star depends on Product pitched so we group the data by later and then fill null values by corresponding median"
   ]
  },
  {
   "cell_type": "code",
   "execution_count": 25,
   "id": "d6b4fd7d",
   "metadata": {
    "id": "d6b4fd7d",
    "outputId": "5c250b55-9f50-421b-8530-bd155118a290"
   },
   "outputs": [
    {
     "name": "stdout",
     "output_type": "stream",
     "text": [
      "ProductPitched\n",
      "Basic           3.0\n",
      "Deluxe          3.0\n",
      "King            3.0\n",
      "Standard        3.0\n",
      "Super Deluxe    3.0\n",
      "Name: PreferredPropertyStar, dtype: float64\n"
     ]
    }
   ],
   "source": [
    "print(tour_df.groupby([\"ProductPitched\"])[\"PreferredPropertyStar\"].median())"
   ]
  },
  {
   "cell_type": "code",
   "execution_count": 26,
   "id": "866b8b48",
   "metadata": {
    "id": "866b8b48"
   },
   "outputs": [],
   "source": [
    "tour_df['PreferredPropertyStar']=tour_df.groupby([\"ProductPitched\"])[\"PreferredPropertyStar\"].apply(\n",
    "    lambda x:x.fillna(x.median()))"
   ]
  },
  {
   "cell_type": "code",
   "execution_count": 27,
   "id": "e90dd94e",
   "metadata": {
    "id": "e90dd94e",
    "outputId": "0662ca34-3da2-4151-cd5e-3b25d79cbafe"
   },
   "outputs": [
    {
     "data": {
      "text/plain": [
       "0"
      ]
     },
     "execution_count": 27,
     "metadata": {},
     "output_type": "execute_result"
    }
   ],
   "source": [
    "tour_df['PreferredPropertyStar'].isna().sum()"
   ]
  },
  {
   "cell_type": "markdown",
   "id": "48c0c328",
   "metadata": {
    "id": "48c0c328"
   },
   "source": [
    "### b.2)Continous value type"
   ]
  },
  {
   "cell_type": "markdown",
   "id": "fbcbc6d4",
   "metadata": {
    "id": "fbcbc6d4"
   },
   "source": [
    "We will check the histograms for these columns to understand the skewness and then decide how to fill them"
   ]
  },
  {
   "cell_type": "code",
   "execution_count": 28,
   "id": "51662e01",
   "metadata": {
    "id": "51662e01",
    "outputId": "5735f108-31a4-4e1d-eceb-fb3937deefe6"
   },
   "outputs": [
    {
     "data": {
      "text/plain": [
       "<Figure size 864x576 with 0 Axes>"
      ]
     },
     "metadata": {},
     "output_type": "display_data"
    },
    {
     "data": {
      "image/png": "[encoded data removed]",
      "text/plain": [
       "<Figure size 432x288 with 4 Axes>"
      ]
     },
     "metadata": {
      "needs_background": "light"
     },
     "output_type": "display_data"
    }
   ],
   "source": [
    "plt.figure(figsize=(12,8))\n",
    "ax=tour_df[['Age','DurationOfPitch','MonthlyIncome']].hist();\n",
    "plt.show()"
   ]
  },
  {
   "cell_type": "code",
   "execution_count": 29,
   "id": "9852ced9",
   "metadata": {
    "id": "9852ced9",
    "outputId": "7a7c997b-f26e-42dd-98ae-627e7f38e65e"
   },
   "outputs": [
    {
     "data": {
      "text/plain": [
       "Age                0.382989\n",
       "DurationOfPitch    1.752037\n",
       "MonthlyIncome      1.949160\n",
       "dtype: float64"
      ]
     },
     "execution_count": 29,
     "metadata": {},
     "output_type": "execute_result"
    }
   ],
   "source": [
    "tour_df[['Age','DurationOfPitch','MonthlyIncome']].skew(axis=0)"
   ]
  },
  {
   "cell_type": "markdown",
   "id": "891f0805",
   "metadata": {
    "id": "891f0805"
   },
   "source": [
    "All the three are positively skewed hence we take median values after necessary grouping"
   ]
  },
  {
   "cell_type": "markdown",
   "id": "519c8009",
   "metadata": {
    "id": "519c8009"
   },
   "source": [
    "### Age"
   ]
  },
  {
   "cell_type": "code",
   "execution_count": 30,
   "id": "9535b84c",
   "metadata": {
    "id": "9535b84c",
    "outputId": "22e65c6a-a0d7-49c6-ef72-15aa6c480499"
   },
   "outputs": [
    {
     "data": {
      "text/plain": [
       "count    4662.000000\n",
       "mean       37.622265\n",
       "std         9.316387\n",
       "min        18.000000\n",
       "25%        31.000000\n",
       "50%        36.000000\n",
       "75%        44.000000\n",
       "max        61.000000\n",
       "Name: Age, dtype: float64"
      ]
     },
     "execution_count": 30,
     "metadata": {},
     "output_type": "execute_result"
    }
   ],
   "source": [
    "tour_df['Age'].describe()"
   ]
  },
  {
   "cell_type": "markdown",
   "id": "1a55529a",
   "metadata": {
    "id": "1a55529a"
   },
   "source": [
    " We will fill the age column by median age based on designation and gender"
   ]
  },
  {
   "cell_type": "code",
   "execution_count": 31,
   "id": "7e7b3c97",
   "metadata": {
    "id": "7e7b3c97"
   },
   "outputs": [],
   "source": [
    "\n",
    "tour_df.groupby([\"Designation\", \"Gender\"])[\"Age\"].median()\n",
    "tour_df['Age'] = tour_df.groupby([\"Designation\", \"Gender\"])[\"Age\"].apply(lambda x:x.fillna(x.median()))"
   ]
  },
  {
   "cell_type": "code",
   "execution_count": 32,
   "id": "84008d57",
   "metadata": {
    "id": "84008d57",
    "outputId": "8717e2d6-29c6-42e5-9239-c2b865377223"
   },
   "outputs": [
    {
     "data": {
      "text/plain": [
       "0"
      ]
     },
     "execution_count": 32,
     "metadata": {},
     "output_type": "execute_result"
    }
   ],
   "source": [
    "tour_df['Age'].isna().sum()"
   ]
  },
  {
   "cell_type": "markdown",
   "id": "3208b867",
   "metadata": {
    "id": "3208b867"
   },
   "source": [
    "### Duration of pitch"
   ]
  },
  {
   "cell_type": "markdown",
   "id": "5d3d713a",
   "metadata": {
    "id": "5d3d713a"
   },
   "source": [
    "We will fill duration of pitch based on Product pitched and number of follow ups"
   ]
  },
  {
   "cell_type": "code",
   "execution_count": 33,
   "id": "a3e8cfb1",
   "metadata": {
    "id": "a3e8cfb1"
   },
   "outputs": [],
   "source": [
    "tour_df.groupby(['ProductPitched','NumberOfFollowups'])[\"DurationOfPitch\"].median()\n",
    "tour_df['DurationOfPitch'] = tour_df.groupby([\"ProductPitched\", \"NumberOfFollowups\"])[\"DurationOfPitch\"].apply(\n",
    "                                    lambda x:x.fillna(x.median()))"
   ]
  },
  {
   "cell_type": "code",
   "execution_count": 34,
   "id": "233938e2",
   "metadata": {
    "id": "233938e2",
    "outputId": "3495d585-4784-46f3-90fd-c761045c359d"
   },
   "outputs": [
    {
     "data": {
      "text/plain": [
       "0"
      ]
     },
     "execution_count": 34,
     "metadata": {},
     "output_type": "execute_result"
    }
   ],
   "source": [
    "tour_df['DurationOfPitch'].isna().sum()"
   ]
  },
  {
   "cell_type": "markdown",
   "id": "4d1ce5c3",
   "metadata": {
    "id": "4d1ce5c3"
   },
   "source": [
    "### Monthly Income"
   ]
  },
  {
   "cell_type": "markdown",
   "id": "0ca1df32",
   "metadata": {
    "id": "0ca1df32"
   },
   "source": [
    "We will fill monthly income based on occupation, designation and gender, since they are dependent"
   ]
  },
  {
   "cell_type": "code",
   "execution_count": 35,
   "id": "eb0427ba",
   "metadata": {
    "id": "eb0427ba"
   },
   "outputs": [],
   "source": [
    "tour_df.groupby(['Occupation','Designation','Gender'])['MonthlyIncome'].median()\n",
    "tour_df[\"MonthlyIncome\"]=tour_df.groupby([\"Occupation\",'Designation','Gender'])[\"MonthlyIncome\"].apply(\n",
    "    lambda x: x.fillna(x.median())\n",
    ")"
   ]
  },
  {
   "cell_type": "code",
   "execution_count": 36,
   "id": "cde2668c",
   "metadata": {
    "id": "cde2668c",
    "outputId": "6b0461ea-fc1a-4698-dbba-4e903ebbb476"
   },
   "outputs": [
    {
     "data": {
      "text/plain": [
       "0"
      ]
     },
     "execution_count": 36,
     "metadata": {},
     "output_type": "execute_result"
    }
   ],
   "source": [
    "tour_df[\"MonthlyIncome\"].isna().sum()"
   ]
  },
  {
   "cell_type": "markdown",
   "id": "ac88ddf7",
   "metadata": {
    "id": "ac88ddf7"
   },
   "source": [
    "### Recheck missing values"
   ]
  },
  {
   "cell_type": "code",
   "execution_count": 37,
   "id": "8315bc72",
   "metadata": {
    "id": "8315bc72",
    "outputId": "b2850341-ce00-41aa-a9af-0c05f8a40248"
   },
   "outputs": [
    {
     "data": {
      "text/plain": [
       "CustomerID                  0\n",
       "ProdTaken                   0\n",
       "Age                         0\n",
       "TypeofContact               0\n",
       "CityTier                    0\n",
       "DurationOfPitch             0\n",
       "Occupation                  0\n",
       "Gender                      0\n",
       "NumberOfPersonVisiting      0\n",
       "NumberOfFollowups           0\n",
       "ProductPitched              0\n",
       "PreferredPropertyStar       0\n",
       "MaritalStatus               0\n",
       "NumberOfTrips               0\n",
       "Passport                    0\n",
       "PitchSatisfactionScore      0\n",
       "OwnCar                      0\n",
       "NumberOfChildrenVisiting    0\n",
       "Designation                 0\n",
       "MonthlyIncome               0\n",
       "dtype: int64"
      ]
     },
     "execution_count": 37,
     "metadata": {},
     "output_type": "execute_result"
    }
   ],
   "source": [
    "tour_df.isna().sum()"
   ]
  },
  {
   "cell_type": "markdown",
   "id": "8aa5bdd0",
   "metadata": {
    "id": "8aa5bdd0"
   },
   "source": [
    "#### All null values are filled\n",
    "<ul>\n",
    "<li> We have looked on all columns with null values\n",
    "<li> Then we have filled them appropriately\n",
    "<li> Now there are no null values in the dataset   "
   ]
  },
  {
   "cell_type": "markdown",
   "id": "43419c2a",
   "metadata": {
    "id": "43419c2a"
   },
   "source": [
    "## M2.3 Outliers"
   ]
  },
  {
   "cell_type": "markdown",
   "id": "28916c43",
   "metadata": {
    "id": "28916c43"
   },
   "source": [
    "### Check the percentage of outliers in each numerical column"
   ]
  },
  {
   "cell_type": "code",
   "execution_count": 38,
   "id": "9c06a83c",
   "metadata": {
    "id": "9c06a83c"
   },
   "outputs": [],
   "source": [
    "Q1 = tour_df.quantile(0.25)             \n",
    "Q3 = tour_df.quantile(0.75)\n",
    "\n",
    "IQR = Q3 - Q1                          \n",
    "\n",
    "lower=Q1-1.5*IQR                        \n",
    "upper=Q3+1.5*IQR"
   ]
  },
  {
   "cell_type": "code",
   "execution_count": 39,
   "id": "97b8c265",
   "metadata": {
    "id": "97b8c265",
    "outputId": "ea94c88c-094d-4aa7-b717-382f59f9ce78"
   },
   "outputs": [
    {
     "data": {
      "text/plain": [
       "CustomerID                   0.000000\n",
       "ProdTaken                   18.821604\n",
       "Age                          0.000000\n",
       "CityTier                     0.000000\n",
       "DurationOfPitch              2.291326\n",
       "NumberOfPersonVisiting       0.061375\n",
       "NumberOfFollowups            6.382979\n",
       "PreferredPropertyStar        0.000000\n",
       "NumberOfTrips                2.229951\n",
       "Passport                     0.000000\n",
       "PitchSatisfactionScore       0.000000\n",
       "OwnCar                       0.000000\n",
       "NumberOfChildrenVisiting     0.000000\n",
       "MonthlyIncome                7.528642\n",
       "dtype: float64"
      ]
     },
     "execution_count": 39,
     "metadata": {},
     "output_type": "execute_result"
    }
   ],
   "source": [
    "((tour_df.select_dtypes(include=['float64','int64'])<lower) | \n",
    " (tour_df.select_dtypes(include=['float64','int64'])>upper)).sum()/len(tour_df)*100"
   ]
  },
  {
   "cell_type": "markdown",
   "id": "42e3d5fd",
   "metadata": {
    "id": "42e3d5fd"
   },
   "source": [
    "<ul>\n",
    "<li>The columns 'DurationOfPitch','MonthlyIncome','NumberOfFollowups','NumberOfTrips' have high percentage of outliers.\n",
    "<li>Select the columns with high percentage of outliers and plot them.\n",
    " <li>   Here we do not consider ProdTaken column because it is our target  "
   ]
  },
  {
   "cell_type": "code",
   "execution_count": 40,
   "id": "1cba9fb0",
   "metadata": {
    "id": "1cba9fb0"
   },
   "outputs": [],
   "source": [
    "outlier_col= ['DurationOfPitch','MonthlyIncome','NumberOfFollowups',\n",
    "                'NumberOfTrips']"
   ]
  },
  {
   "cell_type": "code",
   "execution_count": 41,
   "id": "d85a397d",
   "metadata": {
    "id": "d85a397d",
    "outputId": "5e43af4d-6b5e-4640-d556-995d45305aa0"
   },
   "outputs": [
    {
     "data": {
      "image/png": "[encoded data removed]",
      "text/plain": [
       "<Figure size 1440x2160 with 4 Axes>"
      ]
     },
     "metadata": {
      "needs_background": "light"
     },
     "output_type": "display_data"
    }
   ],
   "source": [
    "plt.figure(figsize=(20, 30))\n",
    "\n",
    "for i, variable in enumerate(outlier_col):\n",
    "    plt.subplot(5, 4, i + 1)\n",
    "    plt.boxplot(tour_df[variable], whis=1.5)\n",
    "    plt.tight_layout()\n",
    "    plt.title(variable)\n",
    "\n",
    "plt.show()"
   ]
  },
  {
   "cell_type": "markdown",
   "id": "6eef60ee",
   "metadata": {
    "id": "6eef60ee"
   },
   "source": [
    "#### Outlier Treatment\n",
    "<ul>\n",
    "<li>While checking each columns we understand that these outliers are completely possible to occur    \n",
    "<li> Hence we are neither removing or replacing the outliers\n",
    "<li> Also outliers doesnot affect ml models such as DecisionTree    "
   ]
  },
  {
   "cell_type": "markdown",
   "id": "462840f4",
   "metadata": {
    "id": "462840f4"
   },
   "source": [
    "## M2.4 Encoding"
   ]
  },
  {
   "cell_type": "markdown",
   "id": "f38192f2",
   "metadata": {
    "id": "f38192f2"
   },
   "source": [
    "We will first split the data into features(X) and target(y) as encoding shouldn't affect target column"
   ]
  },
  {
   "cell_type": "code",
   "execution_count": 42,
   "id": "8514cc25",
   "metadata": {
    "id": "8514cc25"
   },
   "outputs": [],
   "source": [
    "\n",
    "X = tour_df.drop(['ProdTaken','CustomerID'],axis=1)\n",
    "y=tour_df['ProdTaken']\n"
   ]
  },
  {
   "cell_type": "markdown",
   "id": "f988aa16",
   "metadata": {
    "id": "f988aa16"
   },
   "source": [
    "#### Encoding method\n",
    "<ul>\n",
    "   <li>Since there are many categorical columns we will do <b>One-Hot Encoding</b>\n",
    "   <li>Other columns like City tier and preferred property star are ordinal data.Hence we do not do label encoding here    "
   ]
  },
  {
   "cell_type": "code",
   "execution_count": 43,
   "id": "659c2290",
   "metadata": {
    "id": "659c2290"
   },
   "outputs": [],
   "source": [
    "#onehot encoding whole X data\n",
    "X = pd.get_dummies(X)"
   ]
  },
  {
   "cell_type": "code",
   "execution_count": 44,
   "id": "b5f5ceda",
   "metadata": {
    "id": "b5f5ceda",
    "outputId": "6b55ff73-b905-464f-b522-fb0a8f3b1b73"
   },
   "outputs": [
    {
     "data": {
      "text/plain": [
       "(4888, 34)"
      ]
     },
     "execution_count": 44,
     "metadata": {},
     "output_type": "execute_result"
    }
   ],
   "source": [
    "X.shape"
   ]
  },
  {
   "cell_type": "code",
   "execution_count": 45,
   "id": "36385e2e",
   "metadata": {
    "id": "36385e2e",
    "outputId": "74e1db91-4669-4dac-ee56-3c4f902c149b"
   },
   "outputs": [
    {
     "data": {
      "text/html": [
       "<div>\n",
       "<style scoped>\n",
       "    .dataframe tbody tr th:only-of-type {\n",
       "        vertical-align: middle;\n",
       "    }\n",
       "\n",
       "    .dataframe tbody tr th {\n",
       "        vertical-align: top;\n",
       "    }\n",
       "\n",
       "    .dataframe thead th {\n",
       "        text-align: right;\n",
       "    }\n",
       "</style>\n",
       "<table border=\"1\" class=\"dataframe\">\n",
       "  <thead>\n",
       "    <tr style=\"text-align: right;\">\n",
       "      <th></th>\n",
       "      <th>Age</th>\n",
       "      <th>CityTier</th>\n",
       "      <th>DurationOfPitch</th>\n",
       "      <th>NumberOfPersonVisiting</th>\n",
       "      <th>NumberOfFollowups</th>\n",
       "      <th>PreferredPropertyStar</th>\n",
       "      <th>NumberOfTrips</th>\n",
       "      <th>Passport</th>\n",
       "      <th>PitchSatisfactionScore</th>\n",
       "      <th>OwnCar</th>\n",
       "      <th>...</th>\n",
       "      <th>ProductPitched_Super Deluxe</th>\n",
       "      <th>MaritalStatus_Divorced</th>\n",
       "      <th>MaritalStatus_Married</th>\n",
       "      <th>MaritalStatus_Single</th>\n",
       "      <th>MaritalStatus_Unmarried</th>\n",
       "      <th>Designation_AVP</th>\n",
       "      <th>Designation_Executive</th>\n",
       "      <th>Designation_Manager</th>\n",
       "      <th>Designation_Senior Manager</th>\n",
       "      <th>Designation_VP</th>\n",
       "    </tr>\n",
       "  </thead>\n",
       "  <tbody>\n",
       "    <tr>\n",
       "      <th>0</th>\n",
       "      <td>41.0</td>\n",
       "      <td>3</td>\n",
       "      <td>6.0</td>\n",
       "      <td>3</td>\n",
       "      <td>3.0</td>\n",
       "      <td>3.0</td>\n",
       "      <td>1.0</td>\n",
       "      <td>1</td>\n",
       "      <td>2</td>\n",
       "      <td>1</td>\n",
       "      <td>...</td>\n",
       "      <td>0</td>\n",
       "      <td>0</td>\n",
       "      <td>0</td>\n",
       "      <td>1</td>\n",
       "      <td>0</td>\n",
       "      <td>0</td>\n",
       "      <td>0</td>\n",
       "      <td>1</td>\n",
       "      <td>0</td>\n",
       "      <td>0</td>\n",
       "    </tr>\n",
       "    <tr>\n",
       "      <th>1</th>\n",
       "      <td>49.0</td>\n",
       "      <td>1</td>\n",
       "      <td>14.0</td>\n",
       "      <td>3</td>\n",
       "      <td>4.0</td>\n",
       "      <td>4.0</td>\n",
       "      <td>2.0</td>\n",
       "      <td>0</td>\n",
       "      <td>3</td>\n",
       "      <td>1</td>\n",
       "      <td>...</td>\n",
       "      <td>0</td>\n",
       "      <td>1</td>\n",
       "      <td>0</td>\n",
       "      <td>0</td>\n",
       "      <td>0</td>\n",
       "      <td>0</td>\n",
       "      <td>0</td>\n",
       "      <td>1</td>\n",
       "      <td>0</td>\n",
       "      <td>0</td>\n",
       "    </tr>\n",
       "    <tr>\n",
       "      <th>2</th>\n",
       "      <td>37.0</td>\n",
       "      <td>1</td>\n",
       "      <td>8.0</td>\n",
       "      <td>3</td>\n",
       "      <td>4.0</td>\n",
       "      <td>3.0</td>\n",
       "      <td>7.0</td>\n",
       "      <td>1</td>\n",
       "      <td>3</td>\n",
       "      <td>0</td>\n",
       "      <td>...</td>\n",
       "      <td>0</td>\n",
       "      <td>0</td>\n",
       "      <td>0</td>\n",
       "      <td>1</td>\n",
       "      <td>0</td>\n",
       "      <td>0</td>\n",
       "      <td>1</td>\n",
       "      <td>0</td>\n",
       "      <td>0</td>\n",
       "      <td>0</td>\n",
       "    </tr>\n",
       "    <tr>\n",
       "      <th>3</th>\n",
       "      <td>33.0</td>\n",
       "      <td>1</td>\n",
       "      <td>9.0</td>\n",
       "      <td>2</td>\n",
       "      <td>3.0</td>\n",
       "      <td>3.0</td>\n",
       "      <td>2.0</td>\n",
       "      <td>1</td>\n",
       "      <td>5</td>\n",
       "      <td>1</td>\n",
       "      <td>...</td>\n",
       "      <td>0</td>\n",
       "      <td>1</td>\n",
       "      <td>0</td>\n",
       "      <td>0</td>\n",
       "      <td>0</td>\n",
       "      <td>0</td>\n",
       "      <td>1</td>\n",
       "      <td>0</td>\n",
       "      <td>0</td>\n",
       "      <td>0</td>\n",
       "    </tr>\n",
       "    <tr>\n",
       "      <th>4</th>\n",
       "      <td>32.0</td>\n",
       "      <td>1</td>\n",
       "      <td>8.0</td>\n",
       "      <td>2</td>\n",
       "      <td>3.0</td>\n",
       "      <td>4.0</td>\n",
       "      <td>1.0</td>\n",
       "      <td>0</td>\n",
       "      <td>5</td>\n",
       "      <td>1</td>\n",
       "      <td>...</td>\n",
       "      <td>0</td>\n",
       "      <td>1</td>\n",
       "      <td>0</td>\n",
       "      <td>0</td>\n",
       "      <td>0</td>\n",
       "      <td>0</td>\n",
       "      <td>1</td>\n",
       "      <td>0</td>\n",
       "      <td>0</td>\n",
       "      <td>0</td>\n",
       "    </tr>\n",
       "  </tbody>\n",
       "</table>\n",
       "<p>5 rows × 34 columns</p>\n",
       "</div>"
      ],
      "text/plain": [
       "    Age  CityTier  DurationOfPitch  NumberOfPersonVisiting  NumberOfFollowups  \\\n",
       "0  41.0         3              6.0                       3                3.0   \n",
       "1  49.0         1             14.0                       3                4.0   \n",
       "2  37.0         1              8.0                       3                4.0   \n",
       "3  33.0         1              9.0                       2                3.0   \n",
       "4  32.0         1              8.0                       2                3.0   \n",
       "\n",
       "   PreferredPropertyStar  NumberOfTrips  Passport  PitchSatisfactionScore  \\\n",
       "0                    3.0            1.0         1                       2   \n",
       "1                    4.0            2.0         0                       3   \n",
       "2                    3.0            7.0         1                       3   \n",
       "3                    3.0            2.0         1                       5   \n",
       "4                    4.0            1.0         0                       5   \n",
       "\n",
       "   OwnCar  ...  ProductPitched_Super Deluxe  MaritalStatus_Divorced  \\\n",
       "0       1  ...                            0                       0   \n",
       "1       1  ...                            0                       1   \n",
       "2       0  ...                            0                       0   \n",
       "3       1  ...                            0                       1   \n",
       "4       1  ...                            0                       1   \n",
       "\n",
       "   MaritalStatus_Married  MaritalStatus_Single  MaritalStatus_Unmarried  \\\n",
       "0                      0                     1                        0   \n",
       "1                      0                     0                        0   \n",
       "2                      0                     1                        0   \n",
       "3                      0                     0                        0   \n",
       "4                      0                     0                        0   \n",
       "\n",
       "   Designation_AVP  Designation_Executive  Designation_Manager  \\\n",
       "0                0                      0                    1   \n",
       "1                0                      0                    1   \n",
       "2                0                      1                    0   \n",
       "3                0                      1                    0   \n",
       "4                0                      1                    0   \n",
       "\n",
       "   Designation_Senior Manager  Designation_VP  \n",
       "0                           0               0  \n",
       "1                           0               0  \n",
       "2                           0               0  \n",
       "3                           0               0  \n",
       "4                           0               0  \n",
       "\n",
       "[5 rows x 34 columns]"
      ]
     },
     "execution_count": 45,
     "metadata": {},
     "output_type": "execute_result"
    }
   ],
   "source": [
    "X.head()"
   ]
  },
  {
   "cell_type": "markdown",
   "id": "d45b882f",
   "metadata": {
    "id": "d45b882f"
   },
   "source": [
    "<ul>\n",
    "    <li> After encoding we are left with 34 columns (previously we had 20)\n",
    "        "
   ]
  },
  {
   "cell_type": "markdown",
   "id": "08319e90",
   "metadata": {
    "id": "08319e90"
   },
   "source": [
    "### Preprocessing Inference\n",
    "<ol>\n",
    "<li><b>Missing values:</b>We have treated the missing values by filling them appropriately\n",
    "<li><b>Outliers :</b>We have viwed the outliers and decided not to remove or replace them\n",
    "<li><b>Encoding: </b> We have done One-hot encoding after dividing the data into features and target   "
   ]
  },
  {
   "cell_type": "markdown",
   "id": "e463b4c0",
   "metadata": {
    "id": "e463b4c0"
   },
   "source": [
    "# M3: EDA"
   ]
  },
  {
   "cell_type": "markdown",
   "id": "3016a249",
   "metadata": {
    "id": "3016a249"
   },
   "source": [
    "## M3.1 Univariate Analysis"
   ]
  },
  {
   "cell_type": "markdown",
   "id": "4c32810f",
   "metadata": {
    "id": "4c32810f"
   },
   "source": [
    "### 1. Numerical Data"
   ]
  },
  {
   "cell_type": "code",
   "execution_count": 46,
   "id": "2baed115",
   "metadata": {
    "id": "2baed115",
    "outputId": "b33556f9-b518-42dd-d7e9-e96fc2e0dcb6"
   },
   "outputs": [
    {
     "data": {
      "image/png": "[encoded data removed]",
      "text/plain": [
       "<Figure size 1440x1800 with 8 Axes>"
      ]
     },
     "metadata": {
      "needs_background": "light"
     },
     "output_type": "display_data"
    }
   ],
   "source": [
    "num_col=['Age','NumberOfPersonVisiting','NumberOfFollowups',\n",
    "                   'NumberOfTrips','PitchSatisfactionScore','PreferredPropertyStar','NumberOfChildrenVisiting','MonthlyIncome']\n",
    "plt.figure(figsize=(20,25))\n",
    "for i in range(len(num_col)):\n",
    " plt.subplot(8,3,i+1)\n",
    " sns.histplot(tour_df[num_col[i]],kde=False)\n",
    " plt.tight_layout()\n",
    " plt.title(num_col[i],fontsize=25)\n",
    "plt.show()"
   ]
  },
  {
   "cell_type": "code",
   "execution_count": 47,
   "id": "e6308b56",
   "metadata": {
    "id": "e6308b56",
    "outputId": "fb67197c-4eb8-470e-82b6-8785dff52583"
   },
   "outputs": [
    {
     "data": {
      "image/png": "[encoded data removed]",
      "text/plain": [
       "<Figure size 1440x1800 with 8 Axes>"
      ]
     },
     "metadata": {
      "needs_background": "light"
     },
     "output_type": "display_data"
    }
   ],
   "source": [
    "plt.figure(figsize=(20,25))\n",
    "for i in range(len(num_col)):\n",
    " plt.subplot(8,3,i+1)\n",
    " sns.boxplot(tour_df[num_col[i]])\n",
    " plt.tight_layout()\n",
    " plt.title(num_col[i],fontsize=25)\n",
    "plt.show()"
   ]
  },
  {
   "cell_type": "markdown",
   "id": "610cd4d8",
   "metadata": {
    "id": "610cd4d8"
   },
   "source": [
    "### Observation(Numerical):\n",
    "<ul>\n",
    "<li>Age is normally distributed and have no outliers\n",
    "<li>Usually there are 3 number of persons visiting with an outlier as 5\n",
    "<li> The most occured number of follow ups are 4 with outliers as 1 and 6\n",
    "<li> Most number of trips are between 1 and 5 with a few outliers around 20\n",
    "<li> Most given pitch satisfication score is 3. This have no outliers\n",
    "<li> Most preferred property star is 3 with no outlier\n",
    "<li> Most frequent number of children visiting per trip is 1 with no outlier\n",
    "<li><b> Monthly income is right skewed with lot of outliers.</b>"
   ]
  },
  {
   "cell_type": "markdown",
   "id": "891857f5",
   "metadata": {
    "id": "891857f5"
   },
   "source": [
    "### 2.Categorical"
   ]
  },
  {
   "cell_type": "code",
   "execution_count": 48,
   "id": "4238f529",
   "metadata": {
    "id": "4238f529",
    "outputId": "83c88567-0a43-4c7d-d0b8-84a259a48abd"
   },
   "outputs": [
    {
     "data": {
      "image/png": "[encoded data removed]",
      "text/plain": [
       "<Figure size 864x1800 with 8 Axes>"
      ]
     },
     "metadata": {
      "needs_background": "light"
     },
     "output_type": "display_data"
    }
   ],
   "source": [
    "plt.figure(figsize=(12,25))\n",
    "\n",
    "sns.set_theme(style=\"white\") \n",
    "cols=['TypeofContact', 'CityTier', 'Occupation', 'Gender', 'MaritalStatus', \n",
    "        'Passport',\n",
    "        'OwnCar',  \n",
    "        'Designation',]\n",
    "for i, variable in enumerate(cols):\n",
    "                     plt.subplot(9,2,i+1)\n",
    "                     order = tour_df[variable].value_counts(ascending=False).index   \n",
    "                     \n",
    "                     sns.set_palette('Set1')\n",
    "                     ax=sns.countplot(x=tour_df[variable], data=tour_df )\n",
    "                     plt.tight_layout()   \n",
    "                        "
   ]
  },
  {
   "cell_type": "markdown",
   "id": "fb926f10",
   "metadata": {
    "id": "fb926f10"
   },
   "source": [
    "### Observation (Categorical):\n",
    "<ul>\n",
    "\n",
    "<li> Most people are from city tier 1\n",
    "<li> A large portion are either salaried or have small business\n",
    "<li> There are around 48% female and the rest male\n",
    "<li> Most people travelling are married.\n",
    "<li> A large portion owns car\n",
    "<li> A large portion of working people are either manager or executive"
   ]
  },
  {
   "cell_type": "markdown",
   "id": "3579b10b",
   "metadata": {
    "id": "3579b10b"
   },
   "source": [
    "## M3.2 Bivariate Analysis"
   ]
  },
  {
   "cell_type": "markdown",
   "id": "d7538bf2",
   "metadata": {
    "id": "d7538bf2"
   },
   "source": [
    "### Heatmap"
   ]
  },
  {
   "cell_type": "code",
   "execution_count": 49,
   "id": "f1430a82",
   "metadata": {
    "id": "f1430a82",
    "outputId": "389eb632-8731-4195-ba5f-6e8b9599b057"
   },
   "outputs": [
    {
     "data": {
      "image/png": "[encoded data removed]",
      "text/plain": [
       "<Figure size 936x576 with 2 Axes>"
      ]
     },
     "metadata": {},
     "output_type": "display_data"
    }
   ],
   "source": [
    "sns.set_palette(sns.color_palette(\"Set1\", 8))\n",
    "plt.figure(figsize=(13,8))\n",
    "data = tour_df.drop(['CustomerID'],axis=1)\n",
    "sns.heatmap(data.corr(),annot=True)\n",
    "plt.show()"
   ]
  },
  {
   "cell_type": "markdown",
   "id": "0fc842a0",
   "metadata": {
    "id": "0fc842a0"
   },
   "source": [
    "#### Observation:\n",
    "<ul>\n",
    "<li>Monthlyincome and Age has weak correlation\n",
    "<li>Number of children visiting and number of person vsiting has correlation as expected.\n",
    "<li>Numberof follow up and number of person vsiting has very weak correlation."
   ]
  },
  {
   "cell_type": "markdown",
   "id": "2ee1d033",
   "metadata": {
    "id": "2ee1d033"
   },
   "source": [
    "### Numerical columns vs Product Taken"
   ]
  },
  {
   "cell_type": "code",
   "execution_count": 50,
   "id": "588f3434",
   "metadata": {
    "id": "588f3434",
    "outputId": "f7abf43e-03a6-4cf6-bff6-70285f6b6beb"
   },
   "outputs": [
    {
     "data": {
      "image/png": "[encoded data removed]",
      "text/plain": [
       "<Figure size 1080x1440 with 8 Axes>"
      ]
     },
     "metadata": {},
     "output_type": "display_data"
    }
   ],
   "source": [
    "num_col=['Age','NumberOfPersonVisiting','NumberOfFollowups','NumberOfTrips',\n",
    "         'PitchSatisfactionScore','PreferredPropertyStar','NumberOfChildrenVisiting','MonthlyIncome']\n",
    "\n",
    "plt.figure(figsize=(15,20))\n",
    "for i, variable in enumerate(num_col):\n",
    "                     plt.subplot(8,3,i+1)\n",
    "                     sns.boxplot(tour_df[\"ProdTaken\"],tour_df[variable],palette=\"Set1\")\n",
    "                     plt.tight_layout()\n",
    "                     plt.title(variable)\n",
    "plt.show()"
   ]
  },
  {
   "cell_type": "markdown",
   "id": "b2aa1e71",
   "metadata": {
    "id": "b2aa1e71"
   },
   "source": [
    "### Observation:\n",
    "<ul>\n",
    "<li>Customers who purchased the product are mostly in age range of 28 -35\n",
    "<li>Number of trips has some outliers like 17 -20.\n",
    "<li>Monthly income has extreme outliers.Customers who purchased product are in earning on average 18000-23000 monthly"
   ]
  },
  {
   "cell_type": "markdown",
   "id": "0ab2d5c5",
   "metadata": {
    "id": "0ab2d5c5"
   },
   "source": [
    "# M4: Modelling"
   ]
  },
  {
   "cell_type": "markdown",
   "id": "75414b89",
   "metadata": {
    "id": "75414b89"
   },
   "source": [
    "### Import all necessary libraries"
   ]
  },
  {
   "cell_type": "code",
   "execution_count": 51,
   "id": "db9271a9",
   "metadata": {
    "id": "db9271a9"
   },
   "outputs": [],
   "source": [
    "#         train_test_split\n",
    "from sklearn.model_selection import train_test_split\n",
    "#         different classification models\n",
    "from sklearn.linear_model import LogisticRegression\n",
    "from sklearn.neighbors import KNeighborsClassifier\n",
    "from sklearn.svm import SVC\n",
    "from sklearn.tree import DecisionTreeClassifier\n",
    "#         metrics for comparison\n",
    "from sklearn.metrics import confusion_matrix, accuracy_score, precision_score, recall_score, f1_score,plot_confusion_matrix,classification_report"
   ]
  },
  {
   "cell_type": "markdown",
   "id": "337837b2",
   "metadata": {
    "id": "337837b2"
   },
   "source": [
    "#### Train test splitting of data by taking 20 % of data as test set"
   ]
  },
  {
   "cell_type": "code",
   "execution_count": 52,
   "id": "c38cf66c",
   "metadata": {
    "id": "c38cf66c"
   },
   "outputs": [],
   "source": [
    "# splitting\n",
    "X_train, X_test, y_train, y_test = train_test_split(X, y, random_state=42, test_size=0.20)"
   ]
  },
  {
   "cell_type": "code",
   "execution_count": 53,
   "id": "395ced5e",
   "metadata": {
    "id": "395ced5e",
    "outputId": "cc197c88-1e3c-4356-8eb6-88eb31fa7967"
   },
   "outputs": [
    {
     "name": "stdout",
     "output_type": "stream",
     "text": [
      "X_train shape: (3910, 34)\n",
      "X_test shape :  (978, 34)\n",
      "y_train shape:  (3910,)\n",
      "y_test shape : (978,)\n"
     ]
    }
   ],
   "source": [
    "print('X_train shape:',X_train.shape)\n",
    "print('X_test shape : ',X_test.shape)\n",
    "print('y_train shape: ',y_train.shape)\n",
    "print('y_test shape :',y_test.shape)"
   ]
  },
  {
   "cell_type": "markdown",
   "id": "d22dd8ef",
   "metadata": {
    "id": "d22dd8ef"
   },
   "source": [
    "### This is a classification problem hence now we will apply each of the following classification models to the data set and find which one is the best ."
   ]
  },
  {
   "cell_type": "markdown",
   "id": "859f07e9",
   "metadata": {
    "id": "859f07e9"
   },
   "source": [
    "### Logisitc"
   ]
  },
  {
   "cell_type": "code",
   "execution_count": 54,
   "id": "4b26122a",
   "metadata": {
    "id": "4b26122a"
   },
   "outputs": [],
   "source": [
    "log = LogisticRegression()\n",
    "log.fit(X_train, y_train)\n",
    "y_pred_lr = log.predict(X_test)"
   ]
  },
  {
   "cell_type": "code",
   "execution_count": 55,
   "id": "7c5e3952",
   "metadata": {
    "id": "7c5e3952",
    "outputId": "217114bd-522e-4e5f-c12d-3e8d52cab907"
   },
   "outputs": [
    {
     "name": "stdout",
     "output_type": "stream",
     "text": [
      "              precision    recall  f1-score   support\n",
      "\n",
      "           0       0.85      0.97      0.90       787\n",
      "           1       0.67      0.28      0.40       191\n",
      "\n",
      "    accuracy                           0.83       978\n",
      "   macro avg       0.76      0.62      0.65       978\n",
      "weighted avg       0.81      0.83      0.80       978\n",
      "\n"
     ]
    }
   ],
   "source": [
    "print(classification_report(y_test,y_pred_lr))\n",
    "acc_lr=accuracy_score(y_test,y_pred_lr)\n",
    "f1_lr=f1_score(y_test,y_pred_lr)"
   ]
  },
  {
   "cell_type": "code",
   "execution_count": 56,
   "id": "038b4a44",
   "metadata": {
    "id": "038b4a44",
    "outputId": "110a01fd-96ca-4d65-9315-4015c9014a78"
   },
   "outputs": [
    {
     "data": {
      "text/plain": [
       "<sklearn.metrics._plot.confusion_matrix.ConfusionMatrixDisplay at 0x1c6297e1a00>"
      ]
     },
     "execution_count": 56,
     "metadata": {},
     "output_type": "execute_result"
    },
    {
     "data": {
      "image/png": "[encoded data removed]",
      "text/plain": [
       "<Figure size 432x288 with 2 Axes>"
      ]
     },
     "metadata": {},
     "output_type": "display_data"
    }
   ],
   "source": [
    "plot_confusion_matrix(log,X_test,y_test)"
   ]
  },
  {
   "cell_type": "markdown",
   "id": "a1ce3e63",
   "metadata": {
    "id": "a1ce3e63"
   },
   "source": [
    "### KNN classifier\n"
   ]
  },
  {
   "cell_type": "code",
   "execution_count": 57,
   "id": "89b7f700",
   "metadata": {
    "id": "89b7f700"
   },
   "outputs": [],
   "source": [
    "acc_values = []\n",
    "neighbors = np.arange(3,15)\n",
    "for k in neighbors:\n",
    "    classifier = KNeighborsClassifier(n_neighbors = k, metric = 'minkowski')\n",
    "    classifier.fit(X_train, y_train)\n",
    "    y_pred_k = classifier.predict(X_test)\n",
    "    acc = accuracy_score(y_test, y_pred_k)\n",
    "    acc_values.append(acc)"
   ]
  },
  {
   "cell_type": "code",
   "execution_count": 58,
   "id": "7f5abad4",
   "metadata": {
    "id": "7f5abad4",
    "outputId": "4aeff2b7-1ea5-4b54-c441-9025079e80e6"
   },
   "outputs": [
    {
     "data": {
      "text/plain": [
       "Text(0, 0.5, 'accuracy')"
      ]
     },
     "execution_count": 58,
     "metadata": {},
     "output_type": "execute_result"
    },
    {
     "data": {
      "image/png": "[encoded data removed]",
      "text/plain": [
       "<Figure size 432x288 with 1 Axes>"
      ]
     },
     "metadata": {},
     "output_type": "display_data"
    }
   ],
   "source": [
    "plt.plot(neighbors, acc_values, 'o-')\n",
    "plt.xlabel('k value')\n",
    "plt.ylabel('accuracy')"
   ]
  },
  {
   "cell_type": "code",
   "execution_count": 59,
   "id": "9b8155dc",
   "metadata": {
    "id": "9b8155dc"
   },
   "outputs": [],
   "source": [
    "knn = KNeighborsClassifier(n_neighbors=12, metric='minkowski')\n",
    "knn.fit(X_train, y_train)\n",
    "y_pred_k = knn.predict(X_test)"
   ]
  },
  {
   "cell_type": "code",
   "execution_count": 60,
   "id": "805e3a23",
   "metadata": {
    "id": "805e3a23",
    "outputId": "d5ee56da-a03d-4573-811c-7075a5af57af"
   },
   "outputs": [
    {
     "name": "stdout",
     "output_type": "stream",
     "text": [
      "              precision    recall  f1-score   support\n",
      "\n",
      "           0       0.81      0.98      0.89       787\n",
      "           1       0.36      0.04      0.08       191\n",
      "\n",
      "    accuracy                           0.80       978\n",
      "   macro avg       0.59      0.51      0.48       978\n",
      "weighted avg       0.72      0.80      0.73       978\n",
      "\n"
     ]
    }
   ],
   "source": [
    "print(classification_report(y_test,y_pred_k))\n",
    "acc_k=accuracy_score(y_test,y_pred_k)\n",
    "f1_k=f1_score(y_test,y_pred_k)"
   ]
  },
  {
   "cell_type": "code",
   "execution_count": 61,
   "id": "48fbfcc6",
   "metadata": {
    "id": "48fbfcc6",
    "outputId": "e1681c71-da29-426f-f109-91bbb28bb0e7"
   },
   "outputs": [
    {
     "data": {
      "text/plain": [
       "<sklearn.metrics._plot.confusion_matrix.ConfusionMatrixDisplay at 0x1c6284e64f0>"
      ]
     },
     "execution_count": 61,
     "metadata": {},
     "output_type": "execute_result"
    },
    {
     "data": {
      "image/png": "[encoded data removed]",
      "text/plain": [
       "<Figure size 432x288 with 2 Axes>"
      ]
     },
     "metadata": {},
     "output_type": "display_data"
    }
   ],
   "source": [
    "plot_confusion_matrix(knn,X_test,y_test)"
   ]
  },
  {
   "cell_type": "markdown",
   "id": "ef8cfe96",
   "metadata": {
    "id": "ef8cfe96"
   },
   "source": [
    "### Decision tree"
   ]
  },
  {
   "cell_type": "code",
   "execution_count": 62,
   "id": "6654fe45",
   "metadata": {
    "id": "6654fe45"
   },
   "outputs": [],
   "source": [
    "\n",
    "dt = DecisionTreeClassifier()\n",
    "dt.fit(X_train,y_train)\n",
    "y_pred_dt = dt.predict(X_test)"
   ]
  },
  {
   "cell_type": "code",
   "execution_count": 63,
   "id": "1603c268",
   "metadata": {
    "id": "1603c268",
    "outputId": "eb33cd7f-11f9-4f04-8149-7ed9682faf2a"
   },
   "outputs": [
    {
     "name": "stdout",
     "output_type": "stream",
     "text": [
      "              precision    recall  f1-score   support\n",
      "\n",
      "           0       0.95      0.94      0.95       787\n",
      "           1       0.77      0.79      0.78       191\n",
      "\n",
      "    accuracy                           0.91       978\n",
      "   macro avg       0.86      0.87      0.86       978\n",
      "weighted avg       0.91      0.91      0.91       978\n",
      "\n"
     ]
    }
   ],
   "source": [
    "print(classification_report(y_test,y_pred_dt))\n",
    "acc_dt=accuracy_score(y_test,y_pred_dt)\n",
    "f1_dt=f1_score(y_test,y_pred_dt)"
   ]
  },
  {
   "cell_type": "code",
   "execution_count": 64,
   "id": "daf72d1f",
   "metadata": {
    "id": "daf72d1f",
    "outputId": "f5420750-bf0e-4329-d87f-df60840a6787"
   },
   "outputs": [
    {
     "data": {
      "text/plain": [
       "<sklearn.metrics._plot.confusion_matrix.ConfusionMatrixDisplay at 0x1c628b57340>"
      ]
     },
     "execution_count": 64,
     "metadata": {},
     "output_type": "execute_result"
    },
    {
     "data": {
      "image/png": "[encoded data removed]",
      "text/plain": [
       "<Figure size 432x288 with 2 Axes>"
      ]
     },
     "metadata": {},
     "output_type": "display_data"
    }
   ],
   "source": [
    "plot_confusion_matrix(dt,X_test,y_test)"
   ]
  },
  {
   "cell_type": "markdown",
   "id": "b1a74c46",
   "metadata": {
    "id": "b1a74c46"
   },
   "source": [
    "### Model performance evaluation:\n",
    "Comparing f1_score and accuracy of these three models and deciding the best fit"
   ]
  },
  {
   "cell_type": "code",
   "execution_count": 65,
   "id": "7c7fa18b",
   "metadata": {
    "id": "7c7fa18b",
    "outputId": "d3a1b2c1-d1b8-4296-ceae-a0f39c963720"
   },
   "outputs": [
    {
     "data": {
      "text/html": [
       "<div>\n",
       "<style scoped>\n",
       "    .dataframe tbody tr th:only-of-type {\n",
       "        vertical-align: middle;\n",
       "    }\n",
       "\n",
       "    .dataframe tbody tr th {\n",
       "        vertical-align: top;\n",
       "    }\n",
       "\n",
       "    .dataframe thead th {\n",
       "        text-align: right;\n",
       "    }\n",
       "</style>\n",
       "<table border=\"1\" class=\"dataframe\">\n",
       "  <thead>\n",
       "    <tr style=\"text-align: right;\">\n",
       "      <th></th>\n",
       "      <th>Accuracy</th>\n",
       "      <th>F1_score</th>\n",
       "    </tr>\n",
       "  </thead>\n",
       "  <tbody>\n",
       "    <tr>\n",
       "      <th>Logistic</th>\n",
       "      <td>0.832311</td>\n",
       "      <td>0.397059</td>\n",
       "    </tr>\n",
       "    <tr>\n",
       "      <th>KNN</th>\n",
       "      <td>0.798569</td>\n",
       "      <td>0.075117</td>\n",
       "    </tr>\n",
       "    <tr>\n",
       "      <th>DecisionTree</th>\n",
       "      <td>0.913088</td>\n",
       "      <td>0.780362</td>\n",
       "    </tr>\n",
       "  </tbody>\n",
       "</table>\n",
       "</div>"
      ],
      "text/plain": [
       "              Accuracy  F1_score\n",
       "Logistic      0.832311  0.397059\n",
       "KNN           0.798569  0.075117\n",
       "DecisionTree  0.913088  0.780362"
      ]
     },
     "execution_count": 65,
     "metadata": {},
     "output_type": "execute_result"
    }
   ],
   "source": [
    "comp = pd.DataFrame({'Logistic':[acc_lr,f1_lr],\n",
    "                    'KNN':[acc_k,f1_k],\n",
    "                    'DecisionTree':[acc_dt,f1_dt]},index=['Accuracy','F1_score'])\n",
    "comp.transpose()"
   ]
  },
  {
   "cell_type": "markdown",
   "id": "4f8a6d3e",
   "metadata": {
    "id": "4f8a6d3e"
   },
   "source": [
    "### Modelling Inference-1\n",
    "<ul>\n",
    "<li>Among these three, <b>Decision Tree performs best</b> with 91% accuracy and 0.78 f1_score\n",
    "<li>The worst performance is by KNN having only 0.07 f1_score , we could understand it from the confusion matrix plot as it fails to predict postitives"
   ]
  },
  {
   "cell_type": "markdown",
   "id": "783b2eff",
   "metadata": {
    "id": "783b2eff"
   },
   "source": [
    "### Ensemble Models"
   ]
  },
  {
   "cell_type": "code",
   "execution_count": 66,
   "id": "90bd2564",
   "metadata": {
    "id": "90bd2564"
   },
   "outputs": [],
   "source": [
    "from sklearn.ensemble import RandomForestClassifier\n",
    "from sklearn.ensemble import GradientBoostingClassifier\n",
    "from xgboost import XGBClassifier"
   ]
  },
  {
   "cell_type": "markdown",
   "id": "41a7f40e",
   "metadata": {
    "id": "41a7f40e"
   },
   "source": [
    "### Randomforest"
   ]
  },
  {
   "cell_type": "code",
   "execution_count": 67,
   "id": "aaf8bc15",
   "metadata": {
    "id": "aaf8bc15"
   },
   "outputs": [],
   "source": [
    "rfc = RandomForestClassifier()\n",
    "rfc.fit(X_train,y_train)\n",
    "y_pred_rfc = rfc.predict(X_test)"
   ]
  },
  {
   "cell_type": "code",
   "execution_count": 68,
   "id": "a3be3316",
   "metadata": {
    "id": "a3be3316",
    "outputId": "bcc89329-9850-409b-e6f2-016fd274c22d"
   },
   "outputs": [
    {
     "name": "stdout",
     "output_type": "stream",
     "text": [
      "              precision    recall  f1-score   support\n",
      "\n",
      "           0       0.90      0.99      0.95       787\n",
      "           1       0.95      0.57      0.71       191\n",
      "\n",
      "    accuracy                           0.91       978\n",
      "   macro avg       0.93      0.78      0.83       978\n",
      "weighted avg       0.91      0.91      0.90       978\n",
      "\n"
     ]
    }
   ],
   "source": [
    "print(classification_report(y_test,y_pred_rfc))\n",
    "acc_rfc=accuracy_score(y_test,y_pred_rfc)\n",
    "f1_rfc=f1_score(y_test,y_pred_rfc)"
   ]
  },
  {
   "cell_type": "code",
   "execution_count": 69,
   "id": "bbaf7398",
   "metadata": {
    "id": "bbaf7398",
    "outputId": "1b46b9a8-3c39-486a-fb56-0beb1ff81e54"
   },
   "outputs": [
    {
     "data": {
      "text/plain": [
       "<sklearn.metrics._plot.confusion_matrix.ConfusionMatrixDisplay at 0x1c6222250a0>"
      ]
     },
     "execution_count": 69,
     "metadata": {},
     "output_type": "execute_result"
    },
    {
     "data": {
      "image/png": "[encoded data removed]",
      "text/plain": [
       "<Figure size 432x288 with 2 Axes>"
      ]
     },
     "metadata": {},
     "output_type": "display_data"
    }
   ],
   "source": [
    "plot_confusion_matrix(rfc,X_test,y_test)"
   ]
  },
  {
   "cell_type": "code",
   "execution_count": 70,
   "id": "b922e3cb",
   "metadata": {
    "id": "b922e3cb",
    "outputId": "5c4c349e-493c-41d4-fa2b-4a92f562d78a"
   },
   "outputs": [
    {
     "data": {
      "text/plain": [
       "MonthlyIncome                    11.566735\n",
       "Age                              11.222655\n",
       "DurationOfPitch                   9.894691\n",
       "Passport                          8.226485\n",
       "NumberOfTrips                     6.172094\n",
       "PitchSatisfactionScore            5.920203\n",
       "NumberOfFollowups                 5.114682\n",
       "PreferredPropertyStar             4.273502\n",
       "CityTier                          3.626433\n",
       "NumberOfChildrenVisiting          2.872966\n",
       "NumberOfPersonVisiting            2.719756\n",
       "MaritalStatus_Single              2.173123\n",
       "Designation_Executive             2.132670\n",
       "OwnCar                            2.097303\n",
       "ProductPitched_Basic              2.078728\n",
       "Occupation_Small Business         1.877610\n",
       "TypeofContact_Company Invited     1.772373\n",
       "Gender_Female                     1.768672\n",
       "Gender_Male                       1.766003\n",
       "Occupation_Salaried               1.757203\n",
       "TypeofContact_Self Enquiry        1.735029\n",
       "MaritalStatus_Married             1.604639\n",
       "MaritalStatus_Unmarried           1.392887\n",
       "Occupation_Large Business         1.375513\n",
       "MaritalStatus_Divorced            1.274521\n",
       "Designation_Manager               0.793055\n",
       "ProductPitched_Deluxe             0.596108\n",
       "ProductPitched_Standard           0.566701\n",
       "Designation_Senior Manager        0.555627\n",
       "ProductPitched_Super Deluxe       0.361768\n",
       "Designation_AVP                   0.313859\n",
       "Designation_VP                    0.189572\n",
       "ProductPitched_King               0.184855\n",
       "Occupation_Free Lancer            0.021979\n",
       "dtype: float64"
      ]
     },
     "execution_count": 70,
     "metadata": {},
     "output_type": "execute_result"
    }
   ],
   "source": [
    "pd.Series(rfc.feature_importances_, index=X.columns).sort_values(ascending=False)*100"
   ]
  },
  {
   "cell_type": "markdown",
   "id": "a6b9366d",
   "metadata": {
    "id": "a6b9366d"
   },
   "source": [
    "### Gradient boosting"
   ]
  },
  {
   "cell_type": "code",
   "execution_count": 71,
   "id": "bd153e57",
   "metadata": {
    "id": "bd153e57"
   },
   "outputs": [],
   "source": [
    "gbc = GradientBoostingClassifier()\n",
    "gbc.fit(X_train,y_train)\n",
    "y_pred_gbc = gbc.predict(X_test)"
   ]
  },
  {
   "cell_type": "code",
   "execution_count": 72,
   "id": "8543900f",
   "metadata": {
    "id": "8543900f",
    "outputId": "2c65a5ef-9853-4576-9822-cb33c3da4069"
   },
   "outputs": [
    {
     "name": "stdout",
     "output_type": "stream",
     "text": [
      "              precision    recall  f1-score   support\n",
      "\n",
      "           0       0.87      0.97      0.92       787\n",
      "           1       0.78      0.38      0.51       191\n",
      "\n",
      "    accuracy                           0.86       978\n",
      "   macro avg       0.83      0.68      0.72       978\n",
      "weighted avg       0.85      0.86      0.84       978\n",
      "\n"
     ]
    }
   ],
   "source": [
    "print(classification_report(y_test,y_pred_gbc))\n",
    "acc_gbc=accuracy_score(y_test,y_pred_gbc)\n",
    "f1_gbc=f1_score(y_test,y_pred_gbc)"
   ]
  },
  {
   "cell_type": "code",
   "execution_count": 73,
   "id": "6bdafcdc",
   "metadata": {
    "id": "6bdafcdc",
    "outputId": "2d16f72c-216c-4590-d9c6-d174313113a1"
   },
   "outputs": [
    {
     "data": {
      "text/plain": [
       "<sklearn.metrics._plot.confusion_matrix.ConfusionMatrixDisplay at 0x1c6287fe310>"
      ]
     },
     "execution_count": 73,
     "metadata": {},
     "output_type": "execute_result"
    },
    {
     "data": {
      "image/png": "[encoded data removed]",
      "text/plain": [
       "<Figure size 432x288 with 2 Axes>"
      ]
     },
     "metadata": {},
     "output_type": "display_data"
    }
   ],
   "source": [
    "plot_confusion_matrix(gbc,X_test,y_test)"
   ]
  },
  {
   "cell_type": "markdown",
   "id": "af6d616f",
   "metadata": {
    "id": "af6d616f"
   },
   "source": [
    "### XGBoost"
   ]
  },
  {
   "cell_type": "code",
   "execution_count": 74,
   "id": "a35a29dc",
   "metadata": {
    "id": "a35a29dc",
    "outputId": "0eb5109c-9771-49cb-c49e-9baf9973ba58"
   },
   "outputs": [
    {
     "name": "stdout",
     "output_type": "stream",
     "text": [
      "[09:13:07] WARNING: C:/Users/Administrator/workspace/xgboost-win64_release_1.5.1/src/learner.cc:1115: Starting in XGBoost 1.3.0, the default evaluation metric used with the objective 'binary:logistic' was changed from 'error' to 'logloss'. Explicitly set eval_metric if you'd like to restore the old behavior.\n"
     ]
    }
   ],
   "source": [
    "xgb = XGBClassifier()\n",
    "xgb.fit(X_train,y_train)\n",
    "y_pred_xgb = xgb.predict(X_test)"
   ]
  },
  {
   "cell_type": "code",
   "execution_count": 75,
   "id": "6739df37",
   "metadata": {
    "id": "6739df37",
    "outputId": "d92b969b-374c-4ed1-d689-54939b166988"
   },
   "outputs": [
    {
     "name": "stdout",
     "output_type": "stream",
     "text": [
      "              precision    recall  f1-score   support\n",
      "\n",
      "           0       0.92      0.99      0.95       787\n",
      "           1       0.94      0.65      0.77       191\n",
      "\n",
      "    accuracy                           0.92       978\n",
      "   macro avg       0.93      0.82      0.86       978\n",
      "weighted avg       0.93      0.92      0.92       978\n",
      "\n"
     ]
    }
   ],
   "source": [
    "print(classification_report(y_test,y_pred_xgb))\n",
    "acc_xgb=accuracy_score(y_test,y_pred_xgb)\n",
    "f1_xgb=f1_score(y_test,y_pred_xgb)"
   ]
  },
  {
   "cell_type": "code",
   "execution_count": 76,
   "id": "b3c4f1fe",
   "metadata": {
    "id": "b3c4f1fe",
    "outputId": "6a9f19b6-c571-446d-b77c-a0cc0e977b7c"
   },
   "outputs": [
    {
     "data": {
      "text/plain": [
       "0.7716049382716049"
      ]
     },
     "execution_count": 76,
     "metadata": {},
     "output_type": "execute_result"
    }
   ],
   "source": [
    "f1_score(y_test,y_pred_xgb)"
   ]
  },
  {
   "cell_type": "code",
   "execution_count": 77,
   "id": "7fe202cd",
   "metadata": {
    "id": "7fe202cd",
    "outputId": "f63556c0-5101-423b-d431-f80843fd921a"
   },
   "outputs": [
    {
     "data": {
      "text/plain": [
       "<sklearn.metrics._plot.confusion_matrix.ConfusionMatrixDisplay at 0x1c6297d33a0>"
      ]
     },
     "execution_count": 77,
     "metadata": {},
     "output_type": "execute_result"
    },
    {
     "data": {
      "image/png": "[encoded data removed]",
      "text/plain": [
       "<Figure size 432x288 with 2 Axes>"
      ]
     },
     "metadata": {},
     "output_type": "display_data"
    }
   ],
   "source": [
    "plot_confusion_matrix(xgb,X_test,y_test)"
   ]
  },
  {
   "cell_type": "markdown",
   "id": "9b909b5f",
   "metadata": {
    "id": "9b909b5f"
   },
   "source": [
    "### Model performance evaluation:\n",
    "Comparing all ensembling models along with Decisiontree using accuracy and f1_score"
   ]
  },
  {
   "cell_type": "code",
   "execution_count": 78,
   "id": "875b8e1f",
   "metadata": {
    "id": "875b8e1f",
    "outputId": "e485e2b4-ac63-456e-e680-d0942a0323ec"
   },
   "outputs": [
    {
     "data": {
      "text/html": [
       "<div>\n",
       "<style scoped>\n",
       "    .dataframe tbody tr th:only-of-type {\n",
       "        vertical-align: middle;\n",
       "    }\n",
       "\n",
       "    .dataframe tbody tr th {\n",
       "        vertical-align: top;\n",
       "    }\n",
       "\n",
       "    .dataframe thead th {\n",
       "        text-align: right;\n",
       "    }\n",
       "</style>\n",
       "<table border=\"1\" class=\"dataframe\">\n",
       "  <thead>\n",
       "    <tr style=\"text-align: right;\">\n",
       "      <th></th>\n",
       "      <th>Accuracy</th>\n",
       "      <th>F1_Score</th>\n",
       "    </tr>\n",
       "  </thead>\n",
       "  <tbody>\n",
       "    <tr>\n",
       "      <th>DecisionTree</th>\n",
       "      <td>0.913088</td>\n",
       "      <td>0.780362</td>\n",
       "    </tr>\n",
       "    <tr>\n",
       "      <th>RandomForest</th>\n",
       "      <td>0.910020</td>\n",
       "      <td>0.712418</td>\n",
       "    </tr>\n",
       "    <tr>\n",
       "      <th>GradientBoost</th>\n",
       "      <td>0.858896</td>\n",
       "      <td>0.514085</td>\n",
       "    </tr>\n",
       "    <tr>\n",
       "      <th>XGBooster</th>\n",
       "      <td>0.924335</td>\n",
       "      <td>0.771605</td>\n",
       "    </tr>\n",
       "  </tbody>\n",
       "</table>\n",
       "</div>"
      ],
      "text/plain": [
       "               Accuracy  F1_Score\n",
       "DecisionTree   0.913088  0.780362\n",
       "RandomForest   0.910020  0.712418\n",
       "GradientBoost  0.858896  0.514085\n",
       "XGBooster      0.924335  0.771605"
      ]
     },
     "execution_count": 78,
     "metadata": {},
     "output_type": "execute_result"
    }
   ],
   "source": [
    "comp2 = pd.DataFrame({'DecisionTree':[acc_dt,f1_dt],\n",
    "                     'RandomForest':[acc_rfc,f1_rfc],\n",
    "                    'GradientBoost':[acc_gbc,f1_gbc],\n",
    "                    'XGBooster':[acc_xgb,f1_xgb]\n",
    "                    },index=['Accuracy','F1_Score'])\n",
    "comp2.transpose()"
   ]
  },
  {
   "cell_type": "markdown",
   "id": "333b723e",
   "metadata": {
    "id": "333b723e"
   },
   "source": [
    "### Modelling Inference 2:\n",
    "<ul>\n",
    "    <li> <b>XGBooster</b> have the highest accuracy(92%)\n",
    "    <li> While <b>DecisionTree</b> has the highest f1_score (0.78)\n",
    "    <li> And we can see all the four models have good accuacy score\n",
    "    <li>But while comparing f1 score Gradient boost shows very low value    "
   ]
  },
  {
   "cell_type": "markdown",
   "id": "d4b0c171",
   "metadata": {
    "id": "d4b0c171"
   },
   "source": [
    "## Final modelling Inference\n",
    "If we read both the inferences we could finalize four models that are good fit for this particular classification problem. They are:\n",
    "<ol>\n",
    "<b><li> Decision Tree\n",
    "<li>XGBooster\n",
    "<li>RandomForest\n",
    "<li>Gradient Boost"
   ]
  },
  {
   "cell_type": "markdown",
   "id": "78f4b06f",
   "metadata": {
    "id": "78f4b06f"
   },
   "source": [
    "# M5:Model Fine Tuning "
   ]
  },
  {
   "cell_type": "markdown",
   "id": "75a23007",
   "metadata": {
    "id": "75a23007"
   },
   "source": [
    "### 1. Random Forest hyper parameter tuning"
   ]
  },
  {
   "cell_type": "code",
   "execution_count": 79,
   "id": "cfa4d6d4",
   "metadata": {
    "id": "cfa4d6d4"
   },
   "outputs": [],
   "source": [
    "from sklearn.model_selection import GridSearchCV"
   ]
  },
  {
   "cell_type": "code",
   "execution_count": 80,
   "id": "04871e9f",
   "metadata": {
    "id": "04871e9f"
   },
   "outputs": [],
   "source": [
    "n_estimators=[64,100,128,200]\n",
    "max_features= [2,3,4]\n",
    "bootstrap = [True,False]\n",
    "oob_score = [True,False]"
   ]
  },
  {
   "cell_type": "code",
   "execution_count": 81,
   "id": "8304ae5f",
   "metadata": {
    "id": "8304ae5f"
   },
   "outputs": [],
   "source": [
    "param_grid = {'n_estimators':n_estimators,\n",
    "             'max_features':max_features,\n",
    "             'bootstrap':bootstrap,\n",
    "             'oob_score':oob_score} "
   ]
  },
  {
   "cell_type": "code",
   "execution_count": 82,
   "id": "d0d94deb",
   "metadata": {
    "id": "d0d94deb"
   },
   "outputs": [],
   "source": [
    "rfc = RandomForestClassifier()\n",
    "grid = GridSearchCV(rfc,param_grid)"
   ]
  },
  {
   "cell_type": "code",
   "execution_count": 83,
   "id": "88b3bc6f",
   "metadata": {
    "id": "88b3bc6f",
    "outputId": "1c7ca0c2-f70d-42d2-c98c-2e93281f2a64"
   },
   "outputs": [
    {
     "data": {
      "text/plain": [
       "GridSearchCV(estimator=RandomForestClassifier(),\n",
       "             param_grid={'bootstrap': [True, False], 'max_features': [2, 3, 4],\n",
       "                         'n_estimators': [64, 100, 128, 200],\n",
       "                         'oob_score': [True, False]})"
      ]
     },
     "execution_count": 83,
     "metadata": {},
     "output_type": "execute_result"
    }
   ],
   "source": [
    "grid.fit(X_train,y_train)"
   ]
  },
  {
   "cell_type": "code",
   "execution_count": 84,
   "id": "b3686119",
   "metadata": {
    "id": "b3686119",
    "outputId": "61ae0073-ea64-470a-850d-6cf550e453e9"
   },
   "outputs": [
    {
     "data": {
      "text/plain": [
       "{'bootstrap': False,\n",
       " 'max_features': 4,\n",
       " 'n_estimators': 200,\n",
       " 'oob_score': False}"
      ]
     },
     "execution_count": 84,
     "metadata": {},
     "output_type": "execute_result"
    }
   ],
   "source": [
    "grid.best_params_"
   ]
  },
  {
   "cell_type": "code",
   "execution_count": 85,
   "id": "0d513191",
   "metadata": {
    "id": "0d513191"
   },
   "outputs": [],
   "source": [
    "predictions = grid.predict(X_test)"
   ]
  },
  {
   "cell_type": "code",
   "execution_count": 86,
   "id": "d14a1291",
   "metadata": {
    "id": "d14a1291",
    "outputId": "1e121993-acbb-4b38-db3f-353b5f4991bc"
   },
   "outputs": [
    {
     "name": "stdout",
     "output_type": "stream",
     "text": [
      "              precision    recall  f1-score   support\n",
      "\n",
      "           0       0.92      1.00      0.96       787\n",
      "           1       0.98      0.65      0.78       191\n",
      "\n",
      "    accuracy                           0.93       978\n",
      "   macro avg       0.95      0.83      0.87       978\n",
      "weighted avg       0.93      0.93      0.92       978\n",
      "\n"
     ]
    }
   ],
   "source": [
    "print(classification_report(y_test,predictions))\n",
    "acc_rfc2 = accuracy_score(y_test,predictions)\n",
    "f1_rfc2=f1_score(y_test,predictions)"
   ]
  },
  {
   "cell_type": "code",
   "execution_count": 87,
   "id": "d0c17e0f",
   "metadata": {
    "id": "d0c17e0f",
    "outputId": "62e6f455-a762-4ae1-f2d0-d530a2b5a184"
   },
   "outputs": [
    {
     "data": {
      "text/plain": [
       "<sklearn.metrics._plot.confusion_matrix.ConfusionMatrixDisplay at 0x1c629a8d370>"
      ]
     },
     "execution_count": 87,
     "metadata": {},
     "output_type": "execute_result"
    },
    {
     "data": {
      "image/png": "[encoded data removed]",
      "text/plain": [
       "<Figure size 432x288 with 2 Axes>"
      ]
     },
     "metadata": {},
     "output_type": "display_data"
    }
   ],
   "source": [
    "plot_confusion_matrix(grid,X_test,y_test)"
   ]
  },
  {
   "cell_type": "code",
   "execution_count": 88,
   "id": "f09359b5",
   "metadata": {
    "id": "f09359b5"
   },
   "outputs": [],
   "source": [
    "### Comparing accuracy and f1_score "
   ]
  },
  {
   "cell_type": "code",
   "execution_count": 89,
   "id": "255ea174",
   "metadata": {
    "id": "255ea174",
    "outputId": "47a42f49-fecb-4ad8-e0f2-0daa00a677ce"
   },
   "outputs": [
    {
     "data": {
      "text/html": [
       "<div>\n",
       "<style scoped>\n",
       "    .dataframe tbody tr th:only-of-type {\n",
       "        vertical-align: middle;\n",
       "    }\n",
       "\n",
       "    .dataframe tbody tr th {\n",
       "        vertical-align: top;\n",
       "    }\n",
       "\n",
       "    .dataframe thead th {\n",
       "        text-align: right;\n",
       "    }\n",
       "</style>\n",
       "<table border=\"1\" class=\"dataframe\">\n",
       "  <thead>\n",
       "    <tr style=\"text-align: right;\">\n",
       "      <th></th>\n",
       "      <th>Accuracy</th>\n",
       "      <th>F1_Score</th>\n",
       "    </tr>\n",
       "  </thead>\n",
       "  <tbody>\n",
       "    <tr>\n",
       "      <th>BeforeTuning</th>\n",
       "      <td>0.910020</td>\n",
       "      <td>0.712418</td>\n",
       "    </tr>\n",
       "    <tr>\n",
       "      <th>AfterTuning</th>\n",
       "      <td>0.929448</td>\n",
       "      <td>0.783699</td>\n",
       "    </tr>\n",
       "  </tbody>\n",
       "</table>\n",
       "</div>"
      ],
      "text/plain": [
       "              Accuracy  F1_Score\n",
       "BeforeTuning  0.910020  0.712418\n",
       "AfterTuning   0.929448  0.783699"
      ]
     },
     "execution_count": 89,
     "metadata": {},
     "output_type": "execute_result"
    }
   ],
   "source": [
    "randfor = pd.DataFrame({\n",
    "                     'BeforeTuning':[acc_rfc,f1_rfc],\n",
    "                    'AfterTuning':[acc_rfc2,f1_rfc2]\n",
    "                    },index=['Accuracy','F1_Score'])\n",
    "randfor.transpose()"
   ]
  },
  {
   "cell_type": "markdown",
   "id": "bdb34d77",
   "metadata": {
    "id": "bdb34d77"
   },
   "source": [
    "### Hyper parameter tuning have increased the accuracy as well as f1_score for Random Forest"
   ]
  },
  {
   "cell_type": "markdown",
   "id": "25bd770f",
   "metadata": {
    "id": "25bd770f"
   },
   "source": [
    "### Gradient Boost Hyper parameter tuning"
   ]
  },
  {
   "cell_type": "code",
   "execution_count": 90,
   "id": "58d3ce4d",
   "metadata": {
    "id": "58d3ce4d"
   },
   "outputs": [],
   "source": [
    "\n",
    "param_grid = {\"n_estimators\":[1,5,10,20,40,100],'max_depth':[3,4,5,6]}"
   ]
  },
  {
   "cell_type": "code",
   "execution_count": 91,
   "id": "d3248537",
   "metadata": {
    "id": "d3248537"
   },
   "outputs": [],
   "source": [
    "gb_model = GradientBoostingClassifier()"
   ]
  },
  {
   "cell_type": "code",
   "execution_count": 92,
   "id": "035e0a64",
   "metadata": {
    "id": "035e0a64"
   },
   "outputs": [],
   "source": [
    "grid = GridSearchCV(gb_model,param_grid)"
   ]
  },
  {
   "cell_type": "code",
   "execution_count": 93,
   "id": "c0a4a6f5",
   "metadata": {
    "id": "c0a4a6f5",
    "outputId": "990654ba-642d-4a3c-ef80-4775f023811d"
   },
   "outputs": [
    {
     "data": {
      "text/plain": [
       "GridSearchCV(estimator=GradientBoostingClassifier(),\n",
       "             param_grid={'max_depth': [3, 4, 5, 6],\n",
       "                         'n_estimators': [1, 5, 10, 20, 40, 100]})"
      ]
     },
     "execution_count": 93,
     "metadata": {},
     "output_type": "execute_result"
    }
   ],
   "source": [
    "grid.fit(X_train,y_train)"
   ]
  },
  {
   "cell_type": "code",
   "execution_count": 94,
   "id": "19c2fcc7",
   "metadata": {
    "id": "19c2fcc7",
    "outputId": "a5927399-f418-4e80-8a05-b04f9fe365ce"
   },
   "outputs": [
    {
     "data": {
      "text/plain": [
       "{'max_depth': 6, 'n_estimators': 100}"
      ]
     },
     "execution_count": 94,
     "metadata": {},
     "output_type": "execute_result"
    }
   ],
   "source": [
    "grid.best_params_"
   ]
  },
  {
   "cell_type": "code",
   "execution_count": 95,
   "id": "15edc190",
   "metadata": {
    "id": "15edc190"
   },
   "outputs": [],
   "source": [
    "predictions = grid.predict(X_test)"
   ]
  },
  {
   "cell_type": "code",
   "execution_count": 96,
   "id": "595ce6f0",
   "metadata": {
    "id": "595ce6f0",
    "outputId": "5e4d1dc4-a781-43f9-cce4-5b83645c5144"
   },
   "outputs": [
    {
     "name": "stdout",
     "output_type": "stream",
     "text": [
      "              precision    recall  f1-score   support\n",
      "\n",
      "           0       0.92      0.99      0.95       787\n",
      "           1       0.93      0.63      0.75       191\n",
      "\n",
      "    accuracy                           0.92       978\n",
      "   macro avg       0.92      0.81      0.85       978\n",
      "weighted avg       0.92      0.92      0.91       978\n",
      "\n"
     ]
    }
   ],
   "source": [
    "print(classification_report(y_test,predictions))\n",
    "acc_gbc2 = accuracy_score(y_test,predictions)\n",
    "f1_gbc2=f1_score(y_test,predictions)"
   ]
  },
  {
   "cell_type": "code",
   "execution_count": 97,
   "id": "1e43472a",
   "metadata": {
    "id": "1e43472a",
    "outputId": "7717477d-5ba2-4560-97a1-e9b9cea7c5ae"
   },
   "outputs": [
    {
     "data": {
      "text/plain": [
       "<sklearn.metrics._plot.confusion_matrix.ConfusionMatrixDisplay at 0x1c629015250>"
      ]
     },
     "execution_count": 97,
     "metadata": {},
     "output_type": "execute_result"
    },
    {
     "data": {
      "image/png": "[encoded data removed]",
      "text/plain": [
       "<Figure size 432x288 with 2 Axes>"
      ]
     },
     "metadata": {},
     "output_type": "display_data"
    }
   ],
   "source": [
    "plot_confusion_matrix(grid,X_test,y_test)"
   ]
  },
  {
   "cell_type": "code",
   "execution_count": 98,
   "id": "1a3de56b",
   "metadata": {
    "id": "1a3de56b",
    "outputId": "0a5b41ca-c6e0-427e-bbb3-85c5f4caf7e6"
   },
   "outputs": [
    {
     "data": {
      "text/html": [
       "<div>\n",
       "<style scoped>\n",
       "    .dataframe tbody tr th:only-of-type {\n",
       "        vertical-align: middle;\n",
       "    }\n",
       "\n",
       "    .dataframe tbody tr th {\n",
       "        vertical-align: top;\n",
       "    }\n",
       "\n",
       "    .dataframe thead th {\n",
       "        text-align: right;\n",
       "    }\n",
       "</style>\n",
       "<table border=\"1\" class=\"dataframe\">\n",
       "  <thead>\n",
       "    <tr style=\"text-align: right;\">\n",
       "      <th></th>\n",
       "      <th>Accuracy</th>\n",
       "      <th>F1_Score</th>\n",
       "    </tr>\n",
       "  </thead>\n",
       "  <tbody>\n",
       "    <tr>\n",
       "      <th>BeforeTuning</th>\n",
       "      <td>0.858896</td>\n",
       "      <td>0.514085</td>\n",
       "    </tr>\n",
       "    <tr>\n",
       "      <th>AfterTuning</th>\n",
       "      <td>0.918200</td>\n",
       "      <td>0.750000</td>\n",
       "    </tr>\n",
       "  </tbody>\n",
       "</table>\n",
       "</div>"
      ],
      "text/plain": [
       "              Accuracy  F1_Score\n",
       "BeforeTuning  0.858896  0.514085\n",
       "AfterTuning   0.918200  0.750000"
      ]
     },
     "execution_count": 98,
     "metadata": {},
     "output_type": "execute_result"
    }
   ],
   "source": [
    "gradboost = pd.DataFrame({\n",
    "                     'BeforeTuning':[acc_gbc,f1_gbc],\n",
    "                    'AfterTuning':[acc_gbc2,f1_gbc2]\n",
    "                    },index=['Accuracy','F1_Score'])\n",
    "gradboost.transpose()"
   ]
  },
  {
   "cell_type": "markdown",
   "id": "10f08909",
   "metadata": {
    "id": "10f08909"
   },
   "source": [
    "### Hyper parameter tuning have increased the accuracy as well as f1_score very mcuh for Gradient Boost"
   ]
  },
  {
   "cell_type": "markdown",
   "id": "973dd13e",
   "metadata": {
    "id": "973dd13e"
   },
   "source": [
    "## Comparing both"
   ]
  },
  {
   "cell_type": "code",
   "execution_count": 99,
   "id": "9c540b40",
   "metadata": {
    "id": "9c540b40",
    "outputId": "51bdc370-b636-446d-e93f-83b44da5153d"
   },
   "outputs": [
    {
     "data": {
      "text/html": [
       "<div>\n",
       "<style scoped>\n",
       "    .dataframe tbody tr th:only-of-type {\n",
       "        vertical-align: middle;\n",
       "    }\n",
       "\n",
       "    .dataframe tbody tr th {\n",
       "        vertical-align: top;\n",
       "    }\n",
       "\n",
       "    .dataframe thead th {\n",
       "        text-align: right;\n",
       "    }\n",
       "</style>\n",
       "<table border=\"1\" class=\"dataframe\">\n",
       "  <thead>\n",
       "    <tr style=\"text-align: right;\">\n",
       "      <th></th>\n",
       "      <th>Accuracy</th>\n",
       "      <th>F1_Score</th>\n",
       "    </tr>\n",
       "  </thead>\n",
       "  <tbody>\n",
       "    <tr>\n",
       "      <th>RandomForest</th>\n",
       "      <td>0.929448</td>\n",
       "      <td>0.783699</td>\n",
       "    </tr>\n",
       "    <tr>\n",
       "      <th>GradientBoost</th>\n",
       "      <td>0.918200</td>\n",
       "      <td>0.750000</td>\n",
       "    </tr>\n",
       "  </tbody>\n",
       "</table>\n",
       "</div>"
      ],
      "text/plain": [
       "               Accuracy  F1_Score\n",
       "RandomForest   0.929448  0.783699\n",
       "GradientBoost  0.918200  0.750000"
      ]
     },
     "execution_count": 99,
     "metadata": {},
     "output_type": "execute_result"
    }
   ],
   "source": [
    "comp3 = pd.DataFrame({\n",
    "                     'RandomForest':[acc_rfc2,f1_rfc2],\n",
    "                    'GradientBoost':[acc_gbc2,f1_gbc2],\n",
    "                    \n",
    "                    },index=['Accuracy','F1_Score'])\n",
    "comp3.transpose()"
   ]
  },
  {
   "cell_type": "markdown",
   "id": "364fb5ff",
   "metadata": {
    "id": "364fb5ff"
   },
   "source": [
    "#### After tuning both have same accuracy and f1_score"
   ]
  },
  {
   "cell_type": "code",
   "execution_count": 100,
   "id": "d5ab6050",
   "metadata": {
    "id": "d5ab6050",
    "outputId": "e49b19f6-6634-4a5c-cfec-630e18873f3f"
   },
   "outputs": [
    {
     "data": {
      "text/plain": [
       "MonthlyIncome                    11.304904\n",
       "Age                              11.201232\n",
       "DurationOfPitch                  10.131460\n",
       "Passport                          8.209809\n",
       "NumberOfTrips                     6.325345\n",
       "PitchSatisfactionScore            6.137741\n",
       "NumberOfFollowups                 4.896717\n",
       "PreferredPropertyStar             4.442247\n",
       "CityTier                          3.789744\n",
       "NumberOfChildrenVisiting          2.719829\n",
       "NumberOfPersonVisiting            2.635359\n",
       "MaritalStatus_Single              2.308620\n",
       "OwnCar                            2.145978\n",
       "Occupation_Small Business         2.123475\n",
       "Occupation_Salaried               1.963692\n",
       "Designation_Executive             1.940418\n",
       "Gender_Female                     1.826632\n",
       "TypeofContact_Company Invited     1.787384\n",
       "Gender_Male                       1.747013\n",
       "ProductPitched_Basic              1.725692\n",
       "TypeofContact_Self Enquiry        1.712821\n",
       "MaritalStatus_Married             1.489173\n",
       "Occupation_Large Business         1.407997\n",
       "MaritalStatus_Unmarried           1.312614\n",
       "MaritalStatus_Divorced            1.081000\n",
       "Designation_Manager               0.745227\n",
       "ProductPitched_Deluxe             0.699106\n",
       "Designation_Senior Manager        0.557486\n",
       "ProductPitched_Standard           0.528834\n",
       "ProductPitched_Super Deluxe       0.398621\n",
       "Designation_AVP                   0.316577\n",
       "Designation_VP                    0.173517\n",
       "ProductPitched_King               0.170015\n",
       "Occupation_Free Lancer            0.043724\n",
       "dtype: float64"
      ]
     },
     "execution_count": 100,
     "metadata": {},
     "output_type": "execute_result"
    }
   ],
   "source": [
    "rfc2=RandomForestClassifier(bootstrap=False,max_features= 4,n_estimators=100,oob_score= False)\n",
    "rfc2.fit(X_train,y_train)\n",
    "pd.Series(rfc2.feature_importances_, index=X.columns).sort_values(ascending=False)*100"
   ]
  },
  {
   "cell_type": "code",
   "execution_count": null,
   "id": "eb3d5447",
   "metadata": {
    "id": "eb3d5447"
   },
   "outputs": [],
   "source": []
  },
  {
   "cell_type": "markdown",
   "id": "70a31195",
   "metadata": {
    "id": "70a31195"
   },
   "source": [
    "# Final inference \n",
    "<ul>\n",
    "    <li>Hyper parameter tuning have great effect on both Random Forest and Gradient  Boosting \n",
    "     <li> The best parameters for knowing the puchasing behaviour are :<b>  Age,\n",
    "MonthlyIncome,\n",
    "DurationOfPitch,\n",
    "Passport,\n",
    "NumberOfTrips, and\n",
    "PitchSatisfactionScore"
   ]
  },
  {
   "cell_type": "markdown",
   "id": "52357cc4",
   "metadata": {
    "id": "52357cc4"
   },
   "source": [
    "### Visit With Us tourism company can now continue working on the  Wellness Tourism Package by knowing  which customers more likely to purchase the newly introduced package"
   ]
  },
  {
   "cell_type": "markdown",
   "id": "603c98e4",
   "metadata": {
    "id": "603c98e4"
   },
   "source": [
    "# END"
   ]
  }
 ],
 "metadata": {
  "colab": {
   "name": "Team_1.ipynb",
   "provenance": []
  },
  "kernelspec": {
   "display_name": "Python 3",
   "language": "python",
   "name": "python3"
  },
  "language_info": {
   "codemirror_mode": {
    "name": "ipython",
    "version": 3
   },
   "file_extension": ".py",
   "mimetype": "text/x-python",
   "name": "python",
   "nbconvert_exporter": "python",
   "pygments_lexer": "ipython3",
   "version": "3.8.8"
  }
 },
 "nbformat": 4,
 "nbformat_minor": 5
}
